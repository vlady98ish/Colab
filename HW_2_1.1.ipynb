{
  "cells": [
    {
      "cell_type": "markdown",
      "metadata": {
        "id": "view-in-github",
        "colab_type": "text"
      },
      "source": [
        "<a href=\"https://colab.research.google.com/github/vlady98ish/Colab/blob/main/HW_2_1.1.ipynb\" target=\"_parent\"><img src=\"https://colab.research.google.com/assets/colab-badge.svg\" alt=\"Open In Colab\"/></a>"
      ]
    },
    {
      "cell_type": "markdown",
      "metadata": {
        "id": "x7rESbxtO-Ru"
      },
      "source": [
        "#Imports\n",
        "\n"
      ]
    },
    {
      "cell_type": "code",
      "execution_count": 97,
      "metadata": {
        "id": "BKn_EyU5OpaR"
      },
      "outputs": [],
      "source": [
        "import torch\n",
        "from torch import nn\n",
        "import numpy as np\n",
        "import matplotlib.pyplot as plt"
      ]
    },
    {
      "cell_type": "code",
      "execution_count": 98,
      "metadata": {
        "colab": {
          "base_uri": "https://localhost:8080/"
        },
        "id": "NeKSDuLVPLd7",
        "outputId": "6022af6e-96cc-46eb-a867-90f3216b029e"
      },
      "outputs": [
        {
          "output_type": "stream",
          "name": "stdout",
          "text": [
            "cpu\n"
          ]
        }
      ],
      "source": [
        "device = torch.device(\"cuda:0\" if torch.cuda.is_available() else \"cpu\")\n",
        "print(device)"
      ]
    },
    {
      "cell_type": "markdown",
      "source": [
        "#Init Array of data for future graph"
      ],
      "metadata": {
        "id": "AOc16agingqe"
      }
    },
    {
      "cell_type": "code",
      "source": [
        "mean_epocs = []\n",
        "num_of_hidden_neuron = [1,2,4]\n",
        "bridge = [True,False]\n",
        "std_epocs = []\n",
        "learning_rate = [0.1,0.01]"
      ],
      "metadata": {
        "id": "9q_G7m8pnfn5"
      },
      "execution_count": 99,
      "outputs": []
    },
    {
      "cell_type": "markdown",
      "metadata": {
        "id": "WWCuPS2qPVW3"
      },
      "source": [
        "#Init Linear Layer Class"
      ]
    },
    {
      "cell_type": "code",
      "execution_count": 100,
      "metadata": {
        "id": "hVzdAp47PZy6"
      },
      "outputs": [],
      "source": [
        "class Linear(torch.nn.Module):\n",
        "  def __init__(self, in_features: int, out_features: int, bias: bool = True, device=None, dtype=None) -> None:\n",
        "    factory_kwargs = {'device': device, 'dtype': dtype}\n",
        "    super(Linear, self).__init__()\n",
        "    self.in_features = in_features\n",
        "    self.out_features = out_features\n",
        "    self.weight = nn.Parameter(torch.empty((out_features, in_features), **factory_kwargs))\n",
        "    if bias:\n",
        "        self.bias = nn.Parameter(torch.empty(out_features, **factory_kwargs))\n",
        "    else:\n",
        "        self.register_parameter('bias', None)\n",
        "    self.reset_parameters()\n",
        "\n",
        "  def reset_parameters(self) -> None:\n",
        "    self.weight = nn.Parameter(torch.rand([self.out_features, self.in_features]))\n",
        "    if self.bias is not None:\n",
        "      self.bias = nn.Parameter(torch.rand([self.out_features]))\n",
        "\n",
        "  def forward(self, input: torch.Tensor) -> torch.Tensor:\n",
        "    return torch.matmul(input, torch.transpose(self.weight,0,1)) + self.bias\n",
        "\n",
        "  def extra_repr(self) -> str:\n",
        "    return 'in_features={}, out_features={}, bias={}'.format(\n",
        "        self.in_features, self.out_features, self.bias is not None\n",
        "      )"
      ]
    },
    {
      "cell_type": "markdown",
      "metadata": {
        "id": "B8fmUObiPovU"
      },
      "source": [
        "#Init BTU Class"
      ]
    },
    {
      "cell_type": "code",
      "execution_count": 101,
      "metadata": {
        "id": "xa7PwUZbPtHT"
      },
      "outputs": [],
      "source": [
        "class BTU(torch.nn.Module):\n",
        "  def __init__(self, T=0.2, inplace: bool = False):\n",
        "      super(BTU, self).__init__()\n",
        "      self.T = T\n",
        "\n",
        "  def forward(self, input: torch.Tensor) -> torch.Tensor:\n",
        "      return 1 / (1 + torch.exp(-input/self.T))"
      ]
    },
    {
      "cell_type": "markdown",
      "metadata": {
        "id": "IHDMslVzPxzT"
      },
      "source": [
        "#Init XOR Model"
      ]
    },
    {
      "cell_type": "code",
      "execution_count": 102,
      "metadata": {
        "colab": {
          "base_uri": "https://localhost:8080/"
        },
        "id": "Z9r02ZK6P0N4",
        "outputId": "10f36702-c84c-4f91-d6b4-cdcee845dc51"
      },
      "outputs": [
        {
          "output_type": "stream",
          "name": "stdout",
          "text": [
            "X_Train tensor: tensor([[0., 0.],\n",
            "        [0., 1.],\n",
            "        [1., 0.],\n",
            "        [1., 1.]], requires_grad=True)\n",
            "T_Train tensor: tensor([[0.],\n",
            "        [1.],\n",
            "        [1.],\n",
            "        [0.]])\n",
            "X_Validation tensor: tensor([[0.0000, 0.0000],\n",
            "        [0.0000, 1.0000],\n",
            "        [1.0000, 0.0000],\n",
            "        [1.0000, 1.0000],\n",
            "        [1.0000, 0.1000],\n",
            "        [1.0000, 0.9000],\n",
            "        [0.9000, 0.9000],\n",
            "        [0.1000, 0.9000]], requires_grad=True)\n",
            "T_Validation tensor: tensor([[0],\n",
            "        [1],\n",
            "        [1],\n",
            "        [0],\n",
            "        [1],\n",
            "        [0],\n",
            "        [0],\n",
            "        [1]])\n"
          ]
        }
      ],
      "source": [
        "dim = 2\n",
        "out_dim = 1\n",
        "\n",
        "\n",
        "x_train = torch.tensor([[0, 0], [0, 1], [1, 0], [1, 1]], requires_grad=True, dtype=torch.float32)\n",
        "print(\"X_Train tensor:\",x_train)\n",
        "t_train = torch.tensor([[0], [1], [1], [0]], dtype=torch.float32)\n",
        "print(\"T_Train tensor:\",t_train)\n",
        "###MY CODE#####\n",
        "x_validation = torch.tensor([[0, 0],[0, 1],[1, 0],[1, 1],[1,0.1],[1,0.9],[0.9,0.9],[0.1,0.9]], requires_grad=True, dtype=torch.float32)\n",
        "print(\"X_Validation tensor:\",x_validation)\n",
        "t_validation = torch.tensor([[0], [1], [1], [0],[1],[0],[0],[1]])\n",
        "print(\"T_Validation tensor:\",t_validation)\n",
        "###MY CODE#####\n",
        "\n",
        "class XOR_Net_Model(nn.Module):\n",
        "  def __init__(self,num_hidden, bypass=True):\n",
        "    super().__init__()\n",
        "    self.bypass = bypass\n",
        "    self.hidden = Linear(dim, num_hidden)\n",
        "    if self.bypass:\n",
        "      self.output = Linear(num_hidden + dim, out_dim)\n",
        "    else:\n",
        "      self.output = Linear(num_hidden, out_dim)\n",
        "    self.BTU = BTU(0.5)\n",
        "\n",
        "  def forward(self, input):\n",
        "    z1 = self.hidden(input)\n",
        "    y1 = self.BTU(z1)\n",
        "    if self.bypass:\n",
        "      y1_concat = torch.cat((input, y1), 1)\n",
        "      z2 = self.output(y1_concat)\n",
        "    else:\n",
        "      z2 = self.output(y1)\n",
        "    return self.BTU(z2)"
      ]
    },
    {
      "cell_type": "markdown",
      "metadata": {
        "id": "jsWZqRK2P-jF"
      },
      "source": [
        "#Init Loss Function"
      ]
    },
    {
      "cell_type": "code",
      "execution_count": 103,
      "metadata": {
        "id": "DTK2GoQtQA-o"
      },
      "outputs": [],
      "source": [
        "def Loss(out, t_train):\n",
        "  return -torch.sum(t_train * torch.log(out) + (1.0 - t_train) * torch.log(1.0 - out))  # Cross Entropy loss function"
      ]
    },
    {
      "cell_type": "markdown",
      "metadata": {
        "id": "FUbgHbQhQFGR"
      },
      "source": [
        "#Train Function"
      ]
    },
    {
      "cell_type": "code",
      "execution_count": 104,
      "metadata": {
        "id": "NV35tIcvQG-R"
      },
      "outputs": [],
      "source": [
        "def train(model, x_train, t_train, optimizer):\n",
        "  y_pred = model(x_train)\n",
        "  loss = Loss(y_pred, t_train)\n",
        "\n",
        "  # zero gradients berfore running the backward pass\n",
        "  optimizer.zero_grad()\n",
        "\n",
        "  # backward pass to compute the gradient of loss\n",
        "  # backprop + accumulate \n",
        "  loss.backward()\n",
        "\n",
        "  # update params\n",
        "  optimizer.step()\n",
        "  return loss"
      ]
    },
    {
      "cell_type": "markdown",
      "metadata": {
        "id": "nLR64MTbQK8e"
      },
      "source": [
        "#Test Function"
      ]
    },
    {
      "cell_type": "code",
      "execution_count": 105,
      "metadata": {
        "id": "X8kW5fVaQM_S"
      },
      "outputs": [],
      "source": [
        "# define test step operation:\n",
        "def test(model, x_test, t_test):\n",
        "  loss = Loss(model(x_test), t_test)\n",
        "  return loss"
      ]
    },
    {
      "cell_type": "markdown",
      "source": [
        "#Print results of experiment"
      ],
      "metadata": {
        "id": "XrEcMKx0pkxu"
      }
    },
    {
      "cell_type": "code",
      "source": [
        "def print_results(epocs_arr,validation_loss_arr,train_loss_arr, bad_training_count):\n",
        "  mean_of_epocs = torch.mean(torch.FloatTensor(epocs_arr))\n",
        "  std_of_epocs = torch.std(torch.FloatTensor(epocs_arr)) \n",
        "  mean_validation = torch.mean(torch.FloatTensor(validation_loss_arr))\n",
        "  std_validation = torch.std(torch.FloatTensor(validation_loss_arr)) \n",
        "  mean_loss = torch.mean(torch.FloatTensor(train_loss_arr))\n",
        "  std_loss = torch.std(torch.FloatTensor(train_loss_arr)) \n",
        "\n",
        "\n",
        "\n",
        "  mean_epocs.append(mean_of_epocs)\n",
        "  std_epocs.append(std_of_epocs)\n",
        "  print(\"-----------------------------------------------------\\n\")\n",
        "  print(f\"Mean of epocs = {mean_of_epocs} \\nStandard deviation of epocs = {std_of_epocs}\\n\")\n",
        "  print(f\"Mean of validation loss = {mean_validation} \\nStandard deviation of validation loss = {std_validation}\\n\")\n",
        "  print(f\"Mean of train  loss = {mean_loss} \\nStandard deviation of train loss = {std_loss}\\n\")\n",
        "  print(f\"Bad training count = {bad_training_count}\")\n"
      ],
      "metadata": {
        "id": "1CKvhe_Lppqy"
      },
      "execution_count": 106,
      "outputs": []
    },
    {
      "cell_type": "markdown",
      "metadata": {
        "id": "9Ct_rsabLmVN"
      },
      "source": [
        "#MODEL RUN FUNCTION\n",
        "10 runs"
      ]
    },
    {
      "cell_type": "code",
      "execution_count": 107,
      "metadata": {
        "id": "SWnzr2jKLo1Z"
      },
      "outputs": [],
      "source": [
        "def model_run10(learning_rate,hidden,bypass,epocs):\n",
        "  good_training_count =0\n",
        "  bad_training_count = 0\n",
        "  epoc_count = []\n",
        "  validation_loss_data = []\n",
        "  training_loss_data = []\n",
        "  parameters_of_good_training =[]\n",
        "  while(good_training_count!=10):\n",
        "    model = XOR_Net_Model(hidden, bypass)\n",
        "    \n",
        "    optimizer = torch.optim.SGD(model.parameters(), lr=learning_rate)\n",
        "\n",
        "    counter_of_10 = 0\n",
        "    previous_loss = 1000000\n",
        " \n",
        "  \n",
        "    for i in range(epocs):\n",
        "      train_loss = train(model, x_train, t_train, optimizer)\n",
        "      ###MY CODE#####\n",
        "      validation_loss = test(model,x_validation,t_validation)\n",
        "      difference = previous_loss - validation_loss\n",
        "      # print(\"Diffetence of loss function: {}\".format(difference))\n",
        "      if difference <= 0.0001 and validation_loss<0.2:\n",
        "        counter_of_10+=1\n",
        "        print(\"COUNTER {}\".format(counter_of_10))\n",
        "      else:\n",
        "        counter_of_10 = 0\n",
        "      if counter_of_10 == 10:\n",
        "        print(\"Good train\")\n",
        "        print(\"Validation Loss: {} ,Train Loss: {}, Count of epocs: {}\".format(validation_loss,train_loss,i))\n",
        "\n",
        "        epoc_count.append(i)\n",
        "        validation_loss_data.append(validation_loss)\n",
        "        training_loss_data.append(train_loss)\n",
        "        good_training_count+=1\n",
        "\n",
        "        break\n",
        "      elif i == 40000:\n",
        "        print(\"Bad train: number of epocs = {}\".format(i))\n",
        "        bad_training_count+=1\n",
        "        break  \n",
        "      previous_loss = validation_loss\n",
        "      ###MY CODE#####\n",
        "      \n",
        "      # print(\"\\n Epoc: %s, train loss: %s\" % (i, train_loss))\n",
        "      # print(\"\\n Epoc: %s, validation loss: %s\" % (i, validation_loss))\n",
        "      # print(model(x_train))\n",
        "  print_results(epoc_count,validation_loss_data,training_loss_data, bad_training_count)\n",
        "  print(\"--------------------------------------------------\\n\")\n",
        "  print(\"Hyper Parameters\")\n",
        "  print(f\"Learning Rate = {learning_rate}\\n Num of hidden neurons = {hidden} \\n Bypass = {bypass} \\n Max epocs ={epocs}\")"
      ]
    },
    {
      "cell_type": "markdown",
      "metadata": {
        "id": "ilGcWT5dQfoI"
      },
      "source": [
        "#Training"
      ]
    },
    {
      "cell_type": "markdown",
      "metadata": {
        "id": "sSYTTyr3v1ts"
      },
      "source": [
        "#<b>First Test</b><br>\n",
        "1-Test with Learning rate = 0.1<br>\n",
        "2- Count of hidden neuron = 2<br>\n",
        "3 - Bypass = True\n"
      ]
    },
    {
      "cell_type": "code",
      "execution_count": 108,
      "metadata": {
        "id": "ShJlj73kwGVH"
      },
      "outputs": [],
      "source": [
        "l_rate = 0.1\n",
        "num_hidden = 2\n",
        "bypass = True\n",
        "num_epocs = 400000"
      ]
    },
    {
      "cell_type": "code",
      "execution_count": 109,
      "metadata": {
        "colab": {
          "base_uri": "https://localhost:8080/"
        },
        "id": "t9QIH0XvQhu1",
        "outputId": "8fde2979-d734-46b8-e7d4-d1473bb6a90d"
      },
      "outputs": [
        {
          "output_type": "stream",
          "name": "stdout",
          "text": [
            "COUNTER 1\n",
            "COUNTER 2\n",
            "COUNTER 3\n",
            "COUNTER 4\n",
            "COUNTER 5\n",
            "COUNTER 6\n",
            "COUNTER 7\n",
            "COUNTER 8\n",
            "COUNTER 9\n",
            "COUNTER 10\n",
            "Good train\n",
            "Validation Loss: 0.17036321759223938 ,Train Loss: 0.03723892197012901, Count of epocs: 1744\n",
            "COUNTER 1\n",
            "COUNTER 1\n",
            "COUNTER 2\n",
            "COUNTER 3\n",
            "COUNTER 4\n",
            "COUNTER 5\n",
            "COUNTER 6\n",
            "COUNTER 7\n",
            "COUNTER 8\n",
            "COUNTER 9\n",
            "COUNTER 10\n",
            "Good train\n",
            "Validation Loss: 0.17085173726081848 ,Train Loss: 0.0347508043050766, Count of epocs: 1484\n",
            "COUNTER 1\n",
            "COUNTER 2\n",
            "COUNTER 3\n",
            "COUNTER 4\n",
            "COUNTER 5\n",
            "COUNTER 6\n",
            "COUNTER 7\n",
            "COUNTER 8\n",
            "COUNTER 9\n",
            "COUNTER 10\n",
            "Good train\n",
            "Validation Loss: 0.11366834491491318 ,Train Loss: 0.03242792561650276, Count of epocs: 1201\n",
            "COUNTER 1\n",
            "COUNTER 2\n",
            "COUNTER 3\n",
            "COUNTER 4\n",
            "COUNTER 5\n",
            "COUNTER 6\n",
            "COUNTER 7\n",
            "COUNTER 8\n",
            "COUNTER 9\n",
            "COUNTER 10\n",
            "Good train\n",
            "Validation Loss: 0.14514198899269104 ,Train Loss: 0.03177657350897789, Count of epocs: 1646\n",
            "COUNTER 1\n",
            "COUNTER 1\n",
            "COUNTER 2\n",
            "COUNTER 3\n",
            "COUNTER 4\n",
            "COUNTER 5\n",
            "COUNTER 6\n",
            "COUNTER 7\n",
            "COUNTER 8\n",
            "COUNTER 9\n",
            "COUNTER 10\n",
            "Good train\n",
            "Validation Loss: 0.17791995406150818 ,Train Loss: 0.039798617362976074, Count of epocs: 1641\n",
            "COUNTER 1\n",
            "COUNTER 2\n",
            "COUNTER 3\n",
            "COUNTER 4\n",
            "COUNTER 5\n",
            "COUNTER 6\n",
            "COUNTER 7\n",
            "COUNTER 8\n",
            "COUNTER 9\n",
            "COUNTER 10\n",
            "Good train\n",
            "Validation Loss: 0.13195133209228516 ,Train Loss: 0.030565109103918076, Count of epocs: 1428\n",
            "COUNTER 1\n",
            "COUNTER 2\n",
            "COUNTER 3\n",
            "COUNTER 4\n",
            "COUNTER 5\n",
            "COUNTER 6\n",
            "COUNTER 7\n",
            "COUNTER 8\n",
            "COUNTER 9\n",
            "COUNTER 10\n",
            "Good train\n",
            "Validation Loss: 0.1324683576822281 ,Train Loss: 0.030477043241262436, Count of epocs: 1621\n",
            "COUNTER 1\n",
            "COUNTER 2\n",
            "COUNTER 3\n",
            "COUNTER 4\n",
            "COUNTER 5\n",
            "COUNTER 6\n",
            "COUNTER 7\n",
            "COUNTER 8\n",
            "COUNTER 9\n",
            "COUNTER 10\n",
            "Good train\n",
            "Validation Loss: 0.1296049952507019 ,Train Loss: 0.030568750575184822, Count of epocs: 1332\n",
            "COUNTER 1\n",
            "COUNTER 1\n",
            "COUNTER 2\n",
            "COUNTER 3\n",
            "COUNTER 4\n",
            "COUNTER 5\n",
            "COUNTER 6\n",
            "COUNTER 7\n",
            "COUNTER 8\n",
            "COUNTER 9\n",
            "COUNTER 10\n",
            "Good train\n",
            "Validation Loss: 0.1725221872329712 ,Train Loss: 0.047711875289678574, Count of epocs: 1683\n",
            "COUNTER 1\n",
            "COUNTER 2\n",
            "COUNTER 3\n",
            "COUNTER 4\n",
            "COUNTER 5\n",
            "COUNTER 6\n",
            "COUNTER 7\n",
            "COUNTER 8\n",
            "COUNTER 9\n",
            "COUNTER 10\n",
            "Good train\n",
            "Validation Loss: 0.12339481711387634 ,Train Loss: 0.03106832131743431, Count of epocs: 1332\n",
            "-----------------------------------------------------\n",
            "\n",
            "Mean of epocs = 1511.199951171875 \n",
            "Standard deviation of epocs = 182.23843383789062\n",
            "\n",
            "Mean of validation loss = 0.14678868651390076 \n",
            "Standard deviation of validation loss = 0.023883042857050896\n",
            "\n",
            "Mean of train  loss = 0.03463839367032051 \n",
            "Standard deviation of train loss = 0.005583819001913071\n",
            "\n",
            "--------------------------------------------------\n",
            "\n",
            "Hyper Parameters\n",
            "Learning Rate = 0.1\n",
            " Num of hidden neurons = 2 \n",
            " Bypass = True \n",
            " Max epocs =400000\n"
          ]
        }
      ],
      "source": [
        "model_run10(l_rate,num_hidden,bypass,num_epocs)"
      ]
    },
    {
      "cell_type": "markdown",
      "metadata": {
        "id": "_ZonqEvtz5o-"
      },
      "source": [
        "#<b>Second Test</b><br>\n",
        "1-Test with Learning rate = 0.1<br>\n",
        "2- Count of hidden neuron = 2<br>\n",
        "3 - Bypass = False"
      ]
    },
    {
      "cell_type": "code",
      "execution_count": 110,
      "metadata": {
        "id": "vKshG_Z80ozD"
      },
      "outputs": [],
      "source": [
        "l_rate = 0.1\n",
        "num_hidden = 2\n",
        "bypass = False"
      ]
    },
    {
      "cell_type": "code",
      "execution_count": 111,
      "metadata": {
        "colab": {
          "base_uri": "https://localhost:8080/"
        },
        "id": "oQMQgKUP0vC9",
        "outputId": "16570781-eabc-4245-dd8b-45a9d885ea2e"
      },
      "outputs": [
        {
          "output_type": "stream",
          "name": "stdout",
          "text": [
            "Bad train: number of epocs = 40000\n",
            "Bad train: number of epocs = 40000\n",
            "COUNTER 1\n",
            "COUNTER 2\n",
            "COUNTER 3\n",
            "COUNTER 4\n",
            "COUNTER 5\n",
            "COUNTER 6\n",
            "COUNTER 7\n",
            "COUNTER 8\n",
            "COUNTER 9\n",
            "COUNTER 10\n",
            "Good train\n",
            "Validation Loss: 0.08503921329975128 ,Train Loss: 0.02879149094223976, Count of epocs: 1102\n",
            "COUNTER 1\n",
            "COUNTER 2\n",
            "COUNTER 3\n",
            "COUNTER 4\n",
            "COUNTER 5\n",
            "COUNTER 6\n",
            "COUNTER 7\n",
            "COUNTER 8\n",
            "COUNTER 9\n",
            "COUNTER 10\n",
            "Good train\n",
            "Validation Loss: 0.08509735763072968 ,Train Loss: 0.028512727469205856, Count of epocs: 1192\n",
            "Bad train: number of epocs = 40000\n",
            "COUNTER 1\n",
            "COUNTER 2\n",
            "COUNTER 3\n",
            "COUNTER 4\n",
            "COUNTER 5\n",
            "COUNTER 6\n",
            "COUNTER 7\n",
            "COUNTER 8\n",
            "COUNTER 9\n",
            "COUNTER 10\n",
            "Good train\n",
            "Validation Loss: 0.08496096730232239 ,Train Loss: 0.028720930218696594, Count of epocs: 1186\n",
            "COUNTER 1\n",
            "COUNTER 2\n",
            "COUNTER 3\n",
            "COUNTER 4\n",
            "COUNTER 5\n",
            "COUNTER 6\n",
            "COUNTER 7\n",
            "COUNTER 8\n",
            "COUNTER 9\n",
            "COUNTER 10\n",
            "Good train\n",
            "Validation Loss: 0.07943274080753326 ,Train Loss: 0.02998104691505432, Count of epocs: 1024\n",
            "Bad train: number of epocs = 40000\n",
            "Bad train: number of epocs = 40000\n",
            "COUNTER 1\n",
            "COUNTER 2\n",
            "COUNTER 3\n",
            "COUNTER 4\n",
            "COUNTER 5\n",
            "COUNTER 6\n",
            "COUNTER 7\n",
            "COUNTER 8\n",
            "COUNTER 9\n",
            "COUNTER 10\n",
            "Good train\n",
            "Validation Loss: 0.08509938418865204 ,Train Loss: 0.028628110885620117, Count of epocs: 1139\n",
            "COUNTER 1\n",
            "COUNTER 2\n",
            "COUNTER 3\n",
            "COUNTER 4\n",
            "COUNTER 5\n",
            "COUNTER 6\n",
            "COUNTER 7\n",
            "COUNTER 8\n",
            "COUNTER 9\n",
            "COUNTER 10\n",
            "Good train\n",
            "Validation Loss: 0.08504098653793335 ,Train Loss: 0.02854345738887787, Count of epocs: 1259\n",
            "COUNTER 1\n",
            "COUNTER 2\n",
            "COUNTER 3\n",
            "COUNTER 4\n",
            "COUNTER 5\n",
            "COUNTER 6\n",
            "COUNTER 7\n",
            "COUNTER 8\n",
            "COUNTER 9\n",
            "COUNTER 10\n",
            "Good train\n",
            "Validation Loss: 0.08509868383407593 ,Train Loss: 0.028663482517004013, Count of epocs: 1158\n",
            "COUNTER 1\n",
            "COUNTER 2\n",
            "COUNTER 3\n",
            "COUNTER 4\n",
            "COUNTER 5\n",
            "COUNTER 6\n",
            "COUNTER 7\n",
            "COUNTER 8\n",
            "COUNTER 9\n",
            "COUNTER 10\n",
            "Good train\n",
            "Validation Loss: 0.08518919348716736 ,Train Loss: 0.027949074283242226, Count of epocs: 1240\n",
            "Bad train: number of epocs = 40000\n",
            "COUNTER 1\n",
            "COUNTER 2\n",
            "COUNTER 3\n",
            "COUNTER 4\n",
            "COUNTER 5\n",
            "COUNTER 6\n",
            "COUNTER 7\n",
            "COUNTER 8\n",
            "COUNTER 9\n",
            "COUNTER 10\n",
            "Good train\n",
            "Validation Loss: 0.0738171711564064 ,Train Loss: 0.021113509312272072, Count of epocs: 33700\n",
            "COUNTER 1\n",
            "COUNTER 2\n",
            "COUNTER 3\n",
            "COUNTER 4\n",
            "COUNTER 5\n",
            "COUNTER 6\n",
            "COUNTER 7\n",
            "COUNTER 8\n",
            "COUNTER 9\n",
            "COUNTER 10\n",
            "Good train\n",
            "Validation Loss: 0.08523967862129211 ,Train Loss: 0.028522124513983727, Count of epocs: 1197\n",
            "-----------------------------------------------------\n",
            "\n",
            "Mean of epocs = 4419.7001953125 \n",
            "Standard deviation of epocs = 10288.271484375\n",
            "\n",
            "Mean of validation loss = 0.08340153843164444 \n",
            "Standard deviation of validation loss = 0.0038097286596894264\n",
            "\n",
            "Mean of train  loss = 0.02794259414076805 \n",
            "Standard deviation of train loss = 0.0024524300824850798\n",
            "\n",
            "--------------------------------------------------\n",
            "\n",
            "Hyper Parameters\n",
            "Learning Rate = 0.1\n",
            " Num of hidden neurons = 2 \n",
            " Bypass = False \n",
            " Max epocs =400000\n"
          ]
        }
      ],
      "source": [
        "model_run10(l_rate,num_hidden,bypass,num_epocs)"
      ]
    },
    {
      "cell_type": "markdown",
      "metadata": {
        "id": "O6lQfmBg1KDh"
      },
      "source": [
        "#<b>Third Test</b><br>\n",
        "1-Test with Learning rate = 0.1<br>\n",
        "2- Count of hidden neuron = 4<br>\n",
        "3 - Bypass = True"
      ]
    },
    {
      "cell_type": "code",
      "execution_count": 112,
      "metadata": {
        "id": "kELe8auP1VJv"
      },
      "outputs": [],
      "source": [
        "l_rate = 0.1\n",
        "num_hidden = 4\n",
        "bypass = True"
      ]
    },
    {
      "cell_type": "code",
      "execution_count": 113,
      "metadata": {
        "id": "ZeB6E6QK1aKt",
        "colab": {
          "base_uri": "https://localhost:8080/"
        },
        "outputId": "ac69a0cc-1bdb-421f-9366-7b3de670ee92"
      },
      "outputs": [
        {
          "output_type": "stream",
          "name": "stdout",
          "text": [
            "COUNTER 1\n",
            "COUNTER 2\n",
            "COUNTER 3\n",
            "COUNTER 4\n",
            "COUNTER 5\n",
            "COUNTER 6\n",
            "COUNTER 7\n",
            "COUNTER 8\n",
            "COUNTER 9\n",
            "COUNTER 10\n",
            "Good train\n",
            "Validation Loss: 0.09237433969974518 ,Train Loss: 0.023483101278543472, Count of epocs: 1087\n",
            "COUNTER 1\n",
            "COUNTER 2\n",
            "COUNTER 3\n",
            "COUNTER 4\n",
            "COUNTER 5\n",
            "COUNTER 6\n",
            "COUNTER 7\n",
            "COUNTER 8\n",
            "COUNTER 9\n",
            "COUNTER 10\n",
            "Good train\n",
            "Validation Loss: 0.09409839659929276 ,Train Loss: 0.024755673483014107, Count of epocs: 1133\n",
            "COUNTER 1\n",
            "COUNTER 2\n",
            "COUNTER 3\n",
            "COUNTER 4\n",
            "COUNTER 5\n",
            "COUNTER 6\n",
            "COUNTER 7\n",
            "COUNTER 8\n",
            "COUNTER 9\n",
            "COUNTER 10\n",
            "Good train\n",
            "Validation Loss: 0.11305362731218338 ,Train Loss: 0.02820698544383049, Count of epocs: 1146\n",
            "COUNTER 1\n",
            "COUNTER 1\n",
            "COUNTER 2\n",
            "COUNTER 3\n",
            "COUNTER 4\n",
            "COUNTER 5\n",
            "COUNTER 6\n",
            "COUNTER 7\n",
            "COUNTER 8\n",
            "COUNTER 9\n",
            "COUNTER 10\n",
            "Good train\n",
            "Validation Loss: 0.09886597096920013 ,Train Loss: 0.028669165447354317, Count of epocs: 1202\n",
            "COUNTER 1\n",
            "COUNTER 2\n",
            "COUNTER 3\n",
            "COUNTER 4\n",
            "COUNTER 5\n",
            "COUNTER 6\n",
            "COUNTER 7\n",
            "COUNTER 8\n",
            "COUNTER 9\n",
            "COUNTER 10\n",
            "Good train\n",
            "Validation Loss: 0.14008702337741852 ,Train Loss: 0.031164303421974182, Count of epocs: 1530\n",
            "COUNTER 1\n",
            "COUNTER 2\n",
            "COUNTER 3\n",
            "COUNTER 4\n",
            "COUNTER 5\n",
            "COUNTER 6\n",
            "COUNTER 7\n",
            "COUNTER 8\n",
            "COUNTER 9\n",
            "COUNTER 10\n",
            "Good train\n",
            "Validation Loss: 0.12523622810840607 ,Train Loss: 0.025321688503026962, Count of epocs: 1326\n",
            "COUNTER 1\n",
            "COUNTER 2\n",
            "COUNTER 3\n",
            "COUNTER 4\n",
            "COUNTER 5\n",
            "COUNTER 6\n",
            "COUNTER 7\n",
            "COUNTER 8\n",
            "COUNTER 9\n",
            "COUNTER 10\n",
            "Good train\n",
            "Validation Loss: 0.09931231290102005 ,Train Loss: 0.023983919993042946, Count of epocs: 1327\n",
            "COUNTER 1\n",
            "COUNTER 1\n",
            "COUNTER 2\n",
            "COUNTER 3\n",
            "COUNTER 4\n",
            "COUNTER 5\n",
            "COUNTER 6\n",
            "COUNTER 7\n",
            "COUNTER 8\n",
            "COUNTER 9\n",
            "COUNTER 10\n",
            "Good train\n",
            "Validation Loss: 0.11728832870721817 ,Train Loss: 0.029584236443042755, Count of epocs: 1345\n",
            "COUNTER 1\n",
            "COUNTER 2\n",
            "COUNTER 3\n",
            "COUNTER 4\n",
            "COUNTER 5\n",
            "COUNTER 6\n",
            "COUNTER 7\n",
            "COUNTER 8\n",
            "COUNTER 9\n",
            "COUNTER 10\n",
            "Good train\n",
            "Validation Loss: 0.10446059703826904 ,Train Loss: 0.02713504061102867, Count of epocs: 1091\n",
            "COUNTER 1\n",
            "COUNTER 2\n",
            "COUNTER 3\n",
            "COUNTER 4\n",
            "COUNTER 5\n",
            "COUNTER 6\n",
            "COUNTER 7\n",
            "COUNTER 8\n",
            "COUNTER 9\n",
            "COUNTER 10\n",
            "Good train\n",
            "Validation Loss: 0.1208297461271286 ,Train Loss: 0.028054097667336464, Count of epocs: 1518\n",
            "-----------------------------------------------------\n",
            "\n",
            "Mean of epocs = 1270.5 \n",
            "Standard deviation of epocs = 165.12974548339844\n",
            "\n",
            "Mean of validation loss = 0.11056065559387207 \n",
            "Standard deviation of validation loss = 0.015442938543856144\n",
            "\n",
            "Mean of train  loss = 0.027035823091864586 \n",
            "Standard deviation of train loss = 0.002553825033828616\n",
            "\n",
            "--------------------------------------------------\n",
            "\n",
            "Hyper Parameters\n",
            "Learning Rate = 0.1\n",
            " Num of hidden neurons = 4 \n",
            " Bypass = True \n",
            " Max epocs =400000\n"
          ]
        }
      ],
      "source": [
        "model_run10(l_rate,num_hidden,bypass,num_epocs)"
      ]
    },
    {
      "cell_type": "markdown",
      "metadata": {
        "id": "9ms0KxYT2IX_"
      },
      "source": [
        "#<b>Fourth Test</b><br>\n",
        "1-Test with Learning rate = 0.1<br>\n",
        "2- Count of hidden neuron = 4<br>\n",
        "3 - Bypass = False"
      ]
    },
    {
      "cell_type": "code",
      "execution_count": 114,
      "metadata": {
        "id": "EdD2zdzz2OSM"
      },
      "outputs": [],
      "source": [
        "l_rate = 0.1\n",
        "num_hidden = 4\n",
        "bypass = False"
      ]
    },
    {
      "cell_type": "code",
      "execution_count": 115,
      "metadata": {
        "id": "ThQwAjiV2RVw",
        "colab": {
          "base_uri": "https://localhost:8080/"
        },
        "outputId": "ec41ce21-6dcf-43ad-a2d9-a0f7620ef9d3"
      },
      "outputs": [
        {
          "output_type": "stream",
          "name": "stdout",
          "text": [
            "COUNTER 1\n",
            "COUNTER 2\n",
            "COUNTER 3\n",
            "COUNTER 4\n",
            "COUNTER 5\n",
            "COUNTER 6\n",
            "COUNTER 7\n",
            "COUNTER 8\n",
            "COUNTER 9\n",
            "COUNTER 10\n",
            "Good train\n",
            "Validation Loss: 0.09070996940135956 ,Train Loss: 0.030979514122009277, Count of epocs: 1131\n",
            "COUNTER 1\n",
            "COUNTER 2\n",
            "COUNTER 3\n",
            "COUNTER 4\n",
            "COUNTER 5\n",
            "COUNTER 6\n",
            "COUNTER 7\n",
            "COUNTER 8\n",
            "COUNTER 9\n",
            "COUNTER 10\n",
            "Good train\n",
            "Validation Loss: 0.08149021863937378 ,Train Loss: 0.02677975594997406, Count of epocs: 998\n",
            "COUNTER 1\n",
            "COUNTER 2\n",
            "COUNTER 3\n",
            "COUNTER 4\n",
            "COUNTER 5\n",
            "COUNTER 6\n",
            "COUNTER 7\n",
            "COUNTER 8\n",
            "COUNTER 9\n",
            "COUNTER 10\n",
            "Good train\n",
            "Validation Loss: 0.09080256521701813 ,Train Loss: 0.030547931790351868, Count of epocs: 1129\n",
            "COUNTER 1\n",
            "COUNTER 2\n",
            "COUNTER 3\n",
            "COUNTER 4\n",
            "COUNTER 5\n",
            "COUNTER 6\n",
            "COUNTER 7\n",
            "COUNTER 8\n",
            "COUNTER 9\n",
            "COUNTER 10\n",
            "Good train\n",
            "Validation Loss: 0.08373968303203583 ,Train Loss: 0.028176307678222656, Count of epocs: 1327\n",
            "COUNTER 1\n",
            "COUNTER 2\n",
            "COUNTER 3\n",
            "COUNTER 4\n",
            "COUNTER 5\n",
            "COUNTER 6\n",
            "COUNTER 7\n",
            "COUNTER 8\n",
            "COUNTER 9\n",
            "COUNTER 10\n",
            "Good train\n",
            "Validation Loss: 0.09033917635679245 ,Train Loss: 0.03147423639893532, Count of epocs: 2419\n",
            "COUNTER 1\n",
            "COUNTER 2\n",
            "COUNTER 3\n",
            "COUNTER 4\n",
            "COUNTER 5\n",
            "COUNTER 6\n",
            "COUNTER 7\n",
            "COUNTER 8\n",
            "COUNTER 9\n",
            "COUNTER 10\n",
            "Good train\n",
            "Validation Loss: 0.07618105411529541 ,Train Loss: 0.02421971596777439, Count of epocs: 999\n",
            "COUNTER 1\n",
            "COUNTER 2\n",
            "COUNTER 3\n",
            "COUNTER 4\n",
            "COUNTER 5\n",
            "COUNTER 6\n",
            "COUNTER 7\n",
            "COUNTER 8\n",
            "COUNTER 9\n",
            "COUNTER 10\n",
            "Good train\n",
            "Validation Loss: 0.08008718490600586 ,Train Loss: 0.02408302016556263, Count of epocs: 1108\n",
            "COUNTER 1\n",
            "COUNTER 2\n",
            "COUNTER 3\n",
            "COUNTER 4\n",
            "COUNTER 5\n",
            "COUNTER 6\n",
            "COUNTER 7\n",
            "COUNTER 8\n",
            "COUNTER 9\n",
            "COUNTER 10\n",
            "Good train\n",
            "Validation Loss: 0.09177239239215851 ,Train Loss: 0.03086939826607704, Count of epocs: 1215\n",
            "COUNTER 1\n",
            "COUNTER 2\n",
            "COUNTER 3\n",
            "COUNTER 4\n",
            "COUNTER 5\n",
            "COUNTER 6\n",
            "COUNTER 7\n",
            "COUNTER 8\n",
            "COUNTER 9\n",
            "COUNTER 10\n",
            "Good train\n",
            "Validation Loss: 0.09006696194410324 ,Train Loss: 0.031106501817703247, Count of epocs: 1145\n",
            "COUNTER 1\n",
            "COUNTER 2\n",
            "COUNTER 3\n",
            "COUNTER 4\n",
            "COUNTER 5\n",
            "COUNTER 6\n",
            "COUNTER 7\n",
            "COUNTER 8\n",
            "COUNTER 9\n",
            "COUNTER 10\n",
            "Good train\n",
            "Validation Loss: 0.09076192229986191 ,Train Loss: 0.0310360174626112, Count of epocs: 1120\n",
            "-----------------------------------------------------\n",
            "\n",
            "Mean of epocs = 1259.0999755859375 \n",
            "Standard deviation of epocs = 418.5003662109375\n",
            "\n",
            "Mean of validation loss = 0.08659511059522629 \n",
            "Standard deviation of validation loss = 0.0056754061952233315\n",
            "\n",
            "Mean of train  loss = 0.028927240520715714 \n",
            "Standard deviation of train loss = 0.0029268222860991955\n",
            "\n",
            "--------------------------------------------------\n",
            "\n",
            "Hyper Parameters\n",
            "Learning Rate = 0.1\n",
            " Num of hidden neurons = 4 \n",
            " Bypass = False \n",
            " Max epocs =400000\n"
          ]
        }
      ],
      "source": [
        "model_run10(l_rate,num_hidden,bypass,num_epocs)"
      ]
    },
    {
      "cell_type": "markdown",
      "metadata": {
        "id": "svONPCt03BKm"
      },
      "source": [
        "#<b>Fifth Test</b><br>\n",
        "1-Test with Learning rate = 0.01<br>\n",
        "2- Count of hidden neuron = 2<br>\n",
        "3 - Bypass = True"
      ]
    },
    {
      "cell_type": "code",
      "execution_count": 116,
      "metadata": {
        "id": "kKix3DYC3Izw"
      },
      "outputs": [],
      "source": [
        "l_rate = 0.01\n",
        "num_hidden = 2\n",
        "bypass = True"
      ]
    },
    {
      "cell_type": "code",
      "execution_count": null,
      "metadata": {
        "id": "vC654hiQ3Pjo",
        "colab": {
          "base_uri": "https://localhost:8080/"
        },
        "outputId": "041b1ca5-b1d6-4112-beb8-123daa96c430"
      },
      "outputs": [
        {
          "output_type": "stream",
          "name": "stdout",
          "text": [
            "COUNTER 1\n",
            "COUNTER 2\n",
            "COUNTER 3\n",
            "COUNTER 4\n",
            "COUNTER 5\n",
            "COUNTER 6\n",
            "COUNTER 7\n",
            "COUNTER 8\n",
            "COUNTER 9\n",
            "COUNTER 10\n",
            "Good train\n",
            "Validation Loss: 0.19986987113952637 ,Train Loss: 0.043300800025463104, Count of epocs: 13661\n",
            "COUNTER 1\n",
            "COUNTER 2\n",
            "COUNTER 3\n",
            "COUNTER 4\n",
            "COUNTER 5\n",
            "COUNTER 6\n",
            "COUNTER 7\n",
            "COUNTER 8\n",
            "COUNTER 9\n",
            "COUNTER 10\n",
            "Good train\n",
            "Validation Loss: 0.19985055923461914 ,Train Loss: 0.04693758487701416, Count of epocs: 13302\n",
            "COUNTER 1\n",
            "COUNTER 2\n",
            "COUNTER 3\n",
            "COUNTER 4\n",
            "COUNTER 5\n",
            "COUNTER 6\n",
            "COUNTER 7\n",
            "COUNTER 8\n",
            "COUNTER 9\n",
            "COUNTER 10\n",
            "Good train\n",
            "Validation Loss: 0.19987131655216217 ,Train Loss: 0.04288490116596222, Count of epocs: 13136\n",
            "COUNTER 1\n",
            "COUNTER 2\n",
            "COUNTER 3\n",
            "COUNTER 4\n",
            "COUNTER 5\n",
            "COUNTER 6\n",
            "COUNTER 7\n",
            "COUNTER 8\n",
            "COUNTER 9\n",
            "COUNTER 10\n",
            "Good train\n",
            "Validation Loss: 0.19988791644573212 ,Train Loss: 0.04550010710954666, Count of epocs: 16008\n"
          ]
        }
      ],
      "source": [
        "model_run10(l_rate,num_hidden,bypass,num_epocs)"
      ]
    },
    {
      "cell_type": "markdown",
      "metadata": {
        "id": "TMmvlA0-4hFU"
      },
      "source": [
        "#<b>Six Test</b><br>\n",
        "1-Test with Learning rate = 0.01<br>\n",
        "2- Count of hidden neuron = 2<br>\n",
        "3 - Bypass = False"
      ]
    },
    {
      "cell_type": "code",
      "execution_count": null,
      "metadata": {
        "id": "eY9WK7-t4nxD"
      },
      "outputs": [],
      "source": [
        "l_rate = 0.01\n",
        "num_hidden = 2\n",
        "bypass = False"
      ]
    },
    {
      "cell_type": "code",
      "execution_count": null,
      "metadata": {
        "id": "fjkXtsUc4qtd"
      },
      "outputs": [],
      "source": [
        "model_run10(l_rate,num_hidden,bypass,num_epocs)"
      ]
    },
    {
      "cell_type": "markdown",
      "metadata": {
        "id": "MgnZmkWg5ChL"
      },
      "source": [
        "#<b>Seven Test</b><br>\n",
        "1-Test with Learning rate = 0.01<br>\n",
        "2- Count of hidden neuron = 4<br>\n",
        "3 - Bypass = False"
      ]
    },
    {
      "cell_type": "code",
      "execution_count": null,
      "metadata": {
        "id": "NyIupWe55HK9"
      },
      "outputs": [],
      "source": [
        "l_rate = 0.01\n",
        "num_hidden = 4\n",
        "bypass = False"
      ]
    },
    {
      "cell_type": "code",
      "execution_count": null,
      "metadata": {
        "id": "EebV412q5MBC"
      },
      "outputs": [],
      "source": [
        "model_run10(l_rate,num_hidden,bypass,num_epocs)"
      ]
    },
    {
      "cell_type": "markdown",
      "metadata": {
        "id": "I5dIhtBj50Ok"
      },
      "source": [
        "#<b>Eight Test</b><br>\n",
        "1-Test with Learning rate = 0.01<br>\n",
        "2- Count of hidden neuron = 4<br>\n",
        "3 - Bypass = True"
      ]
    },
    {
      "cell_type": "code",
      "execution_count": null,
      "metadata": {
        "id": "mEHWB7Ip53UQ"
      },
      "outputs": [],
      "source": [
        "l_rate = 0.01\n",
        "num_hidden = 4\n",
        "bypass = True"
      ]
    },
    {
      "cell_type": "code",
      "execution_count": null,
      "metadata": {
        "id": "u6yEs8eP55hm"
      },
      "outputs": [],
      "source": [
        "model_run10(l_rate,num_hidden,bypass,num_epocs)\n",
        "  "
      ]
    },
    {
      "cell_type": "markdown",
      "metadata": {
        "id": "r9aYhrio6RRS"
      },
      "source": [
        "#<b>Nine Test</b><br>\n",
        "1-Test with Learning rate = 0.1<br>\n",
        "2- Count of hidden neuron = 1<br>\n",
        "3 - Bypass = True"
      ]
    },
    {
      "cell_type": "code",
      "execution_count": null,
      "metadata": {
        "id": "HHhX0j1N6XlI"
      },
      "outputs": [],
      "source": [
        "l_rate = 0.1\n",
        "num_hidden = 1\n",
        "bypass = True"
      ]
    },
    {
      "cell_type": "code",
      "execution_count": null,
      "metadata": {
        "id": "nr9wt2f96dc-"
      },
      "outputs": [],
      "source": [
        "model_run10(l_rate,num_hidden,bypass,num_epocs)"
      ]
    },
    {
      "cell_type": "markdown",
      "source": [
        "#Plot function"
      ],
      "metadata": {
        "id": "MyC8pvdJrTrq"
      }
    },
    {
      "cell_type": "code",
      "source": [
        "def plot_function(x,y,x_name,y_name):\n",
        "  plt.plot(x, y)\n",
        "  plt.title(f\"{x_name} and {y_name}\")\n",
        "  plt.xlabel(x_name)\n",
        "  plt.ylabel(y_name)\n",
        "  plt.show\n"
      ],
      "metadata": {
        "id": "tUvYbtcwrVLg"
      },
      "execution_count": null,
      "outputs": []
    },
    {
      "cell_type": "markdown",
      "source": [
        "#Plot graphs"
      ],
      "metadata": {
        "id": "L9_1uj2brIFC"
      }
    },
    {
      "cell_type": "code",
      "source": [
        "#First graph \n",
        "plot_function(mean_epocs,num_of_hidden_neuron, \"Mean of Epocs\", \"Number of hidden neurons\")\n",
        "#Second graph  \n",
        "plot_function(mean_epocs,bridge, \"Mean of Epocs\", \"Bridge\")\n",
        "#Third graph\n",
        "plot_function(std_epocs,learning_rate, \"Mean of Epocs\", \"Learning Rate\")\n",
        "\n"
      ],
      "metadata": {
        "id": "wywUBmnEmy8W"
      },
      "execution_count": null,
      "outputs": []
    }
  ],
  "metadata": {
    "colab": {
      "provenance": [],
      "authorship_tag": "ABX9TyM2OnTibPWjoVi2zyO563kv",
      "include_colab_link": true
    },
    "gpuClass": "standard",
    "kernelspec": {
      "display_name": "Python 3",
      "name": "python3"
    },
    "language_info": {
      "name": "python"
    }
  },
  "nbformat": 4,
  "nbformat_minor": 0
}