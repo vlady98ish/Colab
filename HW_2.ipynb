{
  "cells": [
    {
      "cell_type": "markdown",
      "metadata": {
        "id": "view-in-github",
        "colab_type": "text"
      },
      "source": [
        "<a href=\"https://colab.research.google.com/github/vlady98ish/Colab/blob/main/HW_2.ipynb\" target=\"_parent\"><img src=\"https://colab.research.google.com/assets/colab-badge.svg\" alt=\"Open In Colab\"/></a>"
      ]
    },
    {
      "cell_type": "markdown",
      "metadata": {
        "id": "x7rESbxtO-Ru"
      },
      "source": [
        "#Imports\n",
        "\n"
      ]
    },
    {
      "cell_type": "code",
      "execution_count": null,
      "metadata": {
        "id": "BKn_EyU5OpaR"
      },
      "outputs": [],
      "source": [
        "import torch\n",
        "from torch import nn\n",
        "import numpy as np"
      ]
    },
    {
      "cell_type": "code",
      "execution_count": null,
      "metadata": {
        "colab": {
          "base_uri": "https://localhost:8080/"
        },
        "id": "NeKSDuLVPLd7",
        "outputId": "d630b4bd-b629-4f19-8ca5-76e31cb7b7c4"
      },
      "outputs": [
        {
          "name": "stdout",
          "output_type": "stream",
          "text": [
            "cuda:0\n"
          ]
        }
      ],
      "source": [
        "device = torch.device(\"cuda:0\" if torch.cuda.is_available() else \"cpu\")\n",
        "print(device)"
      ]
    },
    {
      "cell_type": "markdown",
      "metadata": {
        "id": "WWCuPS2qPVW3"
      },
      "source": [
        "#Init Linear Layer Class"
      ]
    },
    {
      "cell_type": "code",
      "execution_count": null,
      "metadata": {
        "id": "hVzdAp47PZy6"
      },
      "outputs": [],
      "source": [
        "class Linear(torch.nn.Module):\n",
        "  def __init__(self, in_features: int, out_features: int, bias: bool = True, device=None, dtype=None) -> None:\n",
        "    factory_kwargs = {'device': device, 'dtype': dtype}\n",
        "    super(Linear, self).__init__()\n",
        "    self.in_features = in_features\n",
        "    self.out_features = out_features\n",
        "    self.weight = nn.Parameter(torch.empty((out_features, in_features), **factory_kwargs))\n",
        "    if bias:\n",
        "        self.bias = nn.Parameter(torch.empty(out_features, **factory_kwargs))\n",
        "    else:\n",
        "        self.register_parameter('bias', None)\n",
        "    self.reset_parameters()\n",
        "\n",
        "  def reset_parameters(self) -> None:\n",
        "    self.weight = nn.Parameter(torch.rand([self.out_features, self.in_features]))\n",
        "    if self.bias is not None:\n",
        "      self.bias = nn.Parameter(torch.rand([self.out_features]))\n",
        "\n",
        "  def forward(self, input: torch.Tensor) -> torch.Tensor:\n",
        "    return torch.matmul(input, torch.transpose(self.weight,0,1)) + self.bias\n",
        "\n",
        "  def extra_repr(self) -> str:\n",
        "    return 'in_features={}, out_features={}, bias={}'.format(\n",
        "        self.in_features, self.out_features, self.bias is not None\n",
        "      )"
      ]
    },
    {
      "cell_type": "markdown",
      "metadata": {
        "id": "B8fmUObiPovU"
      },
      "source": [
        "#Init BTU Class"
      ]
    },
    {
      "cell_type": "code",
      "execution_count": null,
      "metadata": {
        "id": "xa7PwUZbPtHT"
      },
      "outputs": [],
      "source": [
        "class BTU(torch.nn.Module):\n",
        "  def __init__(self, T=0.2, inplace: bool = False):\n",
        "      super(BTU, self).__init__()\n",
        "      self.T = T\n",
        "\n",
        "  def forward(self, input: torch.Tensor) -> torch.Tensor:\n",
        "      return 1 / (1 + torch.exp(-input/self.T))"
      ]
    },
    {
      "cell_type": "markdown",
      "metadata": {
        "id": "IHDMslVzPxzT"
      },
      "source": [
        "#Init XOR Model"
      ]
    },
    {
      "cell_type": "code",
      "execution_count": null,
      "metadata": {
        "colab": {
          "base_uri": "https://localhost:8080/"
        },
        "id": "Z9r02ZK6P0N4",
        "outputId": "45649ca8-ca9c-4a4a-e2ea-7d60d160b4bd"
      },
      "outputs": [
        {
          "name": "stdout",
          "output_type": "stream",
          "text": [
            "X_Train tensor: tensor([[0., 0.],\n",
            "        [0., 1.],\n",
            "        [1., 0.],\n",
            "        [1., 1.]], requires_grad=True)\n",
            "T_Train tensor: tensor([[0.],\n",
            "        [1.],\n",
            "        [1.],\n",
            "        [0.]])\n",
            "X_Validation tensor: tensor([[0.0000, 0.0000],\n",
            "        [0.0000, 1.0000],\n",
            "        [1.0000, 0.0000],\n",
            "        [1.0000, 1.0000],\n",
            "        [1.0000, 0.1000],\n",
            "        [1.0000, 0.9000],\n",
            "        [0.9000, 0.9000],\n",
            "        [0.1000, 0.9000]], requires_grad=True)\n",
            "T_Validation tensor: tensor([[0],\n",
            "        [1],\n",
            "        [1],\n",
            "        [0],\n",
            "        [1],\n",
            "        [0],\n",
            "        [0],\n",
            "        [1]])\n"
          ]
        }
      ],
      "source": [
        "dim = 2\n",
        "out_dim = 1\n",
        "\n",
        "\n",
        "x_train = torch.tensor([[0, 0], [0, 1], [1, 0], [1, 1]], requires_grad=True, dtype=torch.float32)\n",
        "print(\"X_Train tensor:\",x_train)\n",
        "t_train = torch.tensor([[0], [1], [1], [0]], dtype=torch.float32)\n",
        "print(\"T_Train tensor:\",t_train)\n",
        "###MY CODE#####\n",
        "x_validation = torch.tensor([[0, 0],[0, 1],[1, 0],[1, 1],[1,0.1],[1,0.9],[0.9,0.9],[0.1,0.9]], requires_grad=True, dtype=torch.float32)\n",
        "print(\"X_Validation tensor:\",x_validation)\n",
        "t_validation = torch.tensor([[0], [1], [1], [0],[1],[0],[0],[1]])\n",
        "print(\"T_Validation tensor:\",t_validation)\n",
        "###MY CODE#####\n",
        "\n",
        "class XOR_Net_Model(nn.Module):\n",
        "  def __init__(self,num_hidden, bypass=True):\n",
        "    super().__init__()\n",
        "    self.bypass = bypass\n",
        "    self.hidden = Linear(dim, num_hidden)\n",
        "    if self.bypass:\n",
        "      self.output = Linear(num_hidden + dim, out_dim)\n",
        "    else:\n",
        "      self.output = Linear(num_hidden, out_dim)\n",
        "    self.BTU = BTU(0.5)\n",
        "\n",
        "  def forward(self, input):\n",
        "    z1 = self.hidden(input)\n",
        "    y1 = self.BTU(z1)\n",
        "    if self.bypass:\n",
        "      y1_concat = torch.cat((input, y1), 1)\n",
        "      z2 = self.output(y1_concat)\n",
        "    else:\n",
        "      z2 = self.output(y1)\n",
        "    return self.BTU(z2)"
      ]
    },
    {
      "cell_type": "markdown",
      "metadata": {
        "id": "jsWZqRK2P-jF"
      },
      "source": [
        "#Init Loss Function"
      ]
    },
    {
      "cell_type": "code",
      "execution_count": null,
      "metadata": {
        "id": "DTK2GoQtQA-o"
      },
      "outputs": [],
      "source": [
        "def Loss(out, t_train):\n",
        "  return -torch.sum(t_train * torch.log(out) + (1.0 - t_train) * torch.log(1.0 - out))  # Cross Entropy loss function"
      ]
    },
    {
      "cell_type": "markdown",
      "metadata": {
        "id": "FUbgHbQhQFGR"
      },
      "source": [
        "#Train Function"
      ]
    },
    {
      "cell_type": "code",
      "execution_count": null,
      "metadata": {
        "id": "NV35tIcvQG-R"
      },
      "outputs": [],
      "source": [
        "def train(model, x_train, t_train, optimizer):\n",
        "  y_pred = model(x_train)\n",
        "  loss = Loss(y_pred, t_train)\n",
        "\n",
        "  # zero gradients berfore running the backward pass\n",
        "  optimizer.zero_grad()\n",
        "\n",
        "  # backward pass to compute the gradient of loss\n",
        "  # backprop + accumulate \n",
        "  loss.backward()\n",
        "\n",
        "  # update params\n",
        "  optimizer.step()\n",
        "  return loss"
      ]
    },
    {
      "cell_type": "markdown",
      "metadata": {
        "id": "nLR64MTbQK8e"
      },
      "source": [
        "#Test Function"
      ]
    },
    {
      "cell_type": "code",
      "execution_count": null,
      "metadata": {
        "id": "X8kW5fVaQM_S"
      },
      "outputs": [],
      "source": [
        "# define test step operation:\n",
        "def test(model, x_test, t_test):\n",
        "  loss = Loss(model(x_test), t_test)\n",
        "  return loss"
      ]
    },
    {
      "cell_type": "markdown",
      "metadata": {
        "id": "9Ct_rsabLmVN"
      },
      "source": [
        "#MODEL RUN FUNCTION\n",
        "10 runs"
      ]
    },
    {
      "cell_type": "code",
      "execution_count": null,
      "metadata": {
        "id": "SWnzr2jKLo1Z"
      },
      "outputs": [],
      "source": [
        "def model_run10(learning_rate,hidden,bypass,epocs):\n",
        "  good_training_count =0\n",
        "  parameters_of_good_training =[]\n",
        "  while(good_training_count!=10):\n",
        "    model = XOR_Net_Model(hidden, bypass)\n",
        "    \n",
        "    optimizer = torch.optim.SGD(model.parameters(), lr=learning_rate)\n",
        "\n",
        "    counter_of_10 = 0\n",
        "    previous_loss = 1000000\n",
        " \n",
        "  \n",
        "    for i in range(epocs):\n",
        "      train_loss = train(model, x_train, t_train, optimizer)\n",
        "      ###MY CODE#####\n",
        "      \n",
        "      validation_loss = test(model,x_validation,t_validation)\n",
        "      difference = previous_loss - validation_loss\n",
        "      # print(\"Diffetence of loss function: {}\".format(difference))\n",
        "      if difference <= 0.0001 and validation_loss<0.2:\n",
        "        counter_of_10+=1\n",
        "        print(\"COUNTER {}\".format(counter_of_10))\n",
        "      else:\n",
        "        counter_of_10 = 0\n",
        "      if counter_of_10 == 10:\n",
        "        print(\"Good train\")\n",
        "        print(\"Validation Loss: {} ,Train Loss: {}, Count of epocs: {}\".format(validation_loss,train_loss,i))\n",
        "        results = {\"Validation Loss\":validation_loss,\n",
        "                   \"Training Loss\": train_loss,\n",
        "                 \"count_of_epocs\": i}\n",
        "        parameters_of_good_training.append(results)\n",
        "        good_training_count+=1\n",
        "        break\n",
        "      elif i == 40000:\n",
        "        print(\"Bad train: number of epocs = {}\".format(i))\n",
        "        break  \n",
        "      previous_loss = validation_loss\n",
        "      ###MY CODE#####\n",
        "      \n",
        "      # print(\"\\n Epoc: %s, train loss: %s\" % (i, train_loss))\n",
        "      # print(\"\\n Epoc: %s, validation loss: %s\" % (i, validation_loss))\n",
        "      # print(model(x_train))\n",
        "  print(parameters_of_good_training)"
      ]
    },
    {
      "cell_type": "markdown",
      "metadata": {
        "id": "ilGcWT5dQfoI"
      },
      "source": [
        "#Training"
      ]
    },
    {
      "cell_type": "markdown",
      "metadata": {
        "id": "sSYTTyr3v1ts"
      },
      "source": [
        "#<b>First Test</b><br>\n",
        "1-Test with Learning rate = 0.1<br>\n",
        "2- Count of hidden neuron = 2<br>\n",
        "3 - Bypass = True\n"
      ]
    },
    {
      "cell_type": "code",
      "execution_count": null,
      "metadata": {
        "colab": {
          "background_save": true
        },
        "id": "ShJlj73kwGVH"
      },
      "outputs": [],
      "source": [
        "l_rate = 0.1\n",
        "num_hidden = 2\n",
        "bypass = True\n",
        "num_epocs = 1000000000"
      ]
    },
    {
      "cell_type": "code",
      "execution_count": null,
      "metadata": {
        "colab": {
          "base_uri": "https://localhost:8080/"
        },
        "id": "t9QIH0XvQhu1",
        "outputId": "4608ed2d-1b44-4b8d-cc8f-50cf3bbedce9"
      },
      "outputs": [
        {
          "name": "stdout",
          "output_type": "stream",
          "text": [
            "COUNTER 1\n",
            "COUNTER 1\n",
            "COUNTER 2\n",
            "COUNTER 3\n",
            "COUNTER 4\n",
            "COUNTER 5\n",
            "COUNTER 6\n",
            "COUNTER 7\n",
            "COUNTER 8\n",
            "COUNTER 9\n",
            "COUNTER 10\n",
            "Good train\n",
            "Validation Loss: 0.12576636672019958 ,Train Loss: 0.030804775655269623, Count of epocs: 1383\n",
            "COUNTER 1\n",
            "COUNTER 2\n",
            "COUNTER 3\n",
            "COUNTER 4\n",
            "COUNTER 5\n",
            "COUNTER 6\n",
            "COUNTER 7\n",
            "COUNTER 8\n",
            "COUNTER 9\n",
            "COUNTER 10\n",
            "Good train\n",
            "Validation Loss: 0.15816454589366913 ,Train Loss: 0.034310370683670044, Count of epocs: 1699\n"
          ]
        }
      ],
      "source": [
        "model_run10(l_rate,num_hidden,bypass,num_epocs)"
      ]
    },
    {
      "cell_type": "markdown",
      "metadata": {
        "id": "_ZonqEvtz5o-"
      },
      "source": [
        "#<b>Second Test</b><br>\n",
        "1-Test with Learning rate = 0.1<br>\n",
        "2- Count of hidden neuron = 2<br>\n",
        "3 - Bypass = False"
      ]
    },
    {
      "cell_type": "code",
      "execution_count": null,
      "metadata": {
        "id": "vKshG_Z80ozD"
      },
      "outputs": [],
      "source": [
        "l_rate = 0.1\n",
        "num_hidden = 2\n",
        "bypass = False"
      ]
    },
    {
      "cell_type": "code",
      "execution_count": null,
      "metadata": {
        "colab": {
          "background_save": true,
          "base_uri": "https://localhost:8080/"
        },
        "id": "oQMQgKUP0vC9",
        "outputId": "cc64d74e-eaac-4dc2-8ae1-c5949ac39834"
      },
      "outputs": [
        {
          "name": "stdout",
          "output_type": "stream",
          "text": [
            "COUNTER 1\n",
            "COUNTER 2\n",
            "COUNTER 3\n",
            "COUNTER 4\n",
            "COUNTER 5\n",
            "COUNTER 6\n",
            "COUNTER 7\n",
            "COUNTER 8\n",
            "COUNTER 9\n",
            "COUNTER 10\n",
            "Good train\n",
            "Validation Loss: 0.08499662578105927 ,Train Loss: 0.028669072315096855, Count of epocs: 1092\n",
            "Bad train: number of epocs = 40000\n",
            "COUNTER 1\n",
            "COUNTER 2\n",
            "COUNTER 3\n",
            "COUNTER 4\n",
            "COUNTER 5\n",
            "COUNTER 6\n",
            "COUNTER 7\n",
            "COUNTER 8\n",
            "COUNTER 9\n",
            "COUNTER 10\n",
            "Good train\n",
            "Validation Loss: 0.08512066304683685 ,Train Loss: 0.02858002856373787, Count of epocs: 1153\n",
            "Bad train: number of epocs = 40000\n",
            "COUNTER 1\n",
            "COUNTER 2\n",
            "COUNTER 3\n",
            "COUNTER 4\n",
            "COUNTER 5\n",
            "COUNTER 6\n",
            "COUNTER 7\n",
            "COUNTER 8\n",
            "COUNTER 9\n",
            "COUNTER 10\n",
            "Good train\n",
            "Validation Loss: 0.0851076990365982 ,Train Loss: 0.02863696962594986, Count of epocs: 1095\n",
            "Bad train: number of epocs = 40000\n",
            "Bad train: number of epocs = 40000\n",
            "COUNTER 1\n",
            "COUNTER 2\n",
            "COUNTER 3\n",
            "COUNTER 4\n",
            "COUNTER 5\n",
            "COUNTER 6\n",
            "COUNTER 7\n",
            "COUNTER 8\n",
            "COUNTER 9\n",
            "COUNTER 10\n",
            "Good train\n",
            "Validation Loss: 0.08515261858701706 ,Train Loss: 0.02865254133939743, Count of epocs: 1075\n",
            "COUNTER 1\n",
            "COUNTER 1\n",
            "COUNTER 2\n",
            "COUNTER 3\n",
            "COUNTER 4\n",
            "COUNTER 5\n",
            "COUNTER 6\n",
            "COUNTER 7\n",
            "COUNTER 8\n",
            "COUNTER 9\n",
            "COUNTER 10\n",
            "Good train\n",
            "Validation Loss: 0.08496513962745667 ,Train Loss: 0.02866016887128353, Count of epocs: 1089\n",
            "Bad train: number of epocs = 40000\n",
            "Bad train: number of epocs = 40000\n",
            "COUNTER 1\n",
            "COUNTER 2\n",
            "COUNTER 3\n",
            "COUNTER 4\n",
            "COUNTER 5\n",
            "COUNTER 6\n",
            "COUNTER 7\n",
            "COUNTER 8\n",
            "COUNTER 9\n",
            "COUNTER 10\n",
            "Good train\n",
            "Validation Loss: 0.08494925498962402 ,Train Loss: 0.02883591316640377, Count of epocs: 1076\n",
            "COUNTER 1\n",
            "COUNTER 2\n",
            "COUNTER 3\n",
            "COUNTER 4\n",
            "COUNTER 5\n",
            "COUNTER 6\n",
            "COUNTER 7\n",
            "COUNTER 8\n",
            "COUNTER 9\n",
            "COUNTER 10\n",
            "Good train\n",
            "Validation Loss: 0.10992202162742615 ,Train Loss: 0.04030488431453705, Count of epocs: 1386\n"
          ]
        }
      ],
      "source": [
        "model_run10(l_rate,num_hidden,bypass,num_epocs)"
      ]
    },
    {
      "cell_type": "markdown",
      "metadata": {
        "id": "O6lQfmBg1KDh"
      },
      "source": [
        "#<b>Third Test</b><br>\n",
        "1-Test with Learning rate = 0.1<br>\n",
        "2- Count of hidden neuron = 4<br>\n",
        "3 - Bypass = True"
      ]
    },
    {
      "cell_type": "code",
      "execution_count": null,
      "metadata": {
        "id": "kELe8auP1VJv"
      },
      "outputs": [],
      "source": [
        "l_rate = 0.1\n",
        "num_hidden = 4\n",
        "bypass = True"
      ]
    },
    {
      "cell_type": "code",
      "execution_count": null,
      "metadata": {
        "id": "ZeB6E6QK1aKt"
      },
      "outputs": [],
      "source": [
        "model_run10(l_rate,num_hidden,bypass,num_epocs)"
      ]
    },
    {
      "cell_type": "markdown",
      "metadata": {
        "id": "9ms0KxYT2IX_"
      },
      "source": [
        "#<b>Fourth Test</b><br>\n",
        "1-Test with Learning rate = 0.1<br>\n",
        "2- Count of hidden neuron = 4<br>\n",
        "3 - Bypass = False"
      ]
    },
    {
      "cell_type": "code",
      "execution_count": null,
      "metadata": {
        "id": "EdD2zdzz2OSM"
      },
      "outputs": [],
      "source": [
        "l_rate = 0.1\n",
        "num_hidden = 4\n",
        "bypass = False"
      ]
    },
    {
      "cell_type": "code",
      "execution_count": null,
      "metadata": {
        "id": "ThQwAjiV2RVw"
      },
      "outputs": [],
      "source": [
        "model_run10(l_rate,num_hidden,bypass,num_epocs)"
      ]
    },
    {
      "cell_type": "markdown",
      "metadata": {
        "id": "svONPCt03BKm"
      },
      "source": [
        "#<b>Fifth Test</b><br>\n",
        "1-Test with Learning rate = 0.01<br>\n",
        "2- Count of hidden neuron = 2<br>\n",
        "3 - Bypass = True"
      ]
    },
    {
      "cell_type": "code",
      "execution_count": null,
      "metadata": {
        "id": "kKix3DYC3Izw"
      },
      "outputs": [],
      "source": [
        "l_rate = 0.01\n",
        "num_hidden = 2\n",
        "bypass = True"
      ]
    },
    {
      "cell_type": "code",
      "execution_count": null,
      "metadata": {
        "id": "vC654hiQ3Pjo"
      },
      "outputs": [],
      "source": [
        "model_run10(l_rate,num_hidden,bypass,num_epocs)"
      ]
    },
    {
      "cell_type": "markdown",
      "metadata": {
        "id": "TMmvlA0-4hFU"
      },
      "source": [
        "#<b>Six Test</b><br>\n",
        "1-Test with Learning rate = 0.01<br>\n",
        "2- Count of hidden neuron = 2<br>\n",
        "3 - Bypass = False"
      ]
    },
    {
      "cell_type": "code",
      "execution_count": null,
      "metadata": {
        "id": "eY9WK7-t4nxD"
      },
      "outputs": [],
      "source": [
        "l_rate = 0.01\n",
        "num_hidden = 2\n",
        "bypass = False"
      ]
    },
    {
      "cell_type": "code",
      "execution_count": null,
      "metadata": {
        "id": "fjkXtsUc4qtd"
      },
      "outputs": [],
      "source": [
        "model_run10(l_rate,num_hidden,bypass,num_epocs)"
      ]
    },
    {
      "cell_type": "markdown",
      "metadata": {
        "id": "MgnZmkWg5ChL"
      },
      "source": [
        "#<b>Seven Test</b><br>\n",
        "1-Test with Learning rate = 0.01<br>\n",
        "2- Count of hidden neuron = 4<br>\n",
        "3 - Bypass = False"
      ]
    },
    {
      "cell_type": "code",
      "execution_count": null,
      "metadata": {
        "id": "NyIupWe55HK9"
      },
      "outputs": [],
      "source": [
        "l_rate = 0.01\n",
        "num_hidden = 4\n",
        "bypass = False"
      ]
    },
    {
      "cell_type": "code",
      "execution_count": null,
      "metadata": {
        "id": "EebV412q5MBC"
      },
      "outputs": [],
      "source": [
        "model_run10(l_rate,num_hidden,bypass,num_epocs)"
      ]
    },
    {
      "cell_type": "markdown",
      "metadata": {
        "id": "I5dIhtBj50Ok"
      },
      "source": [
        "#<b>Eight Test</b><br>\n",
        "1-Test with Learning rate = 0.01<br>\n",
        "2- Count of hidden neuron = 4<br>\n",
        "3 - Bypass = True"
      ]
    },
    {
      "cell_type": "code",
      "execution_count": null,
      "metadata": {
        "id": "mEHWB7Ip53UQ"
      },
      "outputs": [],
      "source": [
        "l_rate = 0.01\n",
        "num_hidden = 4\n",
        "bypass = True"
      ]
    },
    {
      "cell_type": "code",
      "execution_count": null,
      "metadata": {
        "id": "u6yEs8eP55hm"
      },
      "outputs": [],
      "source": [
        "model_run10(l_rate,num_hidden,bypass,num_epocs)\n",
        "  "
      ]
    },
    {
      "cell_type": "markdown",
      "metadata": {
        "id": "r9aYhrio6RRS"
      },
      "source": [
        "#<b>Nine Test</b><br>\n",
        "1-Test with Learning rate = 0.1<br>\n",
        "2- Count of hidden neuron = 1<br>\n",
        "3 - Bypass = True"
      ]
    },
    {
      "cell_type": "code",
      "execution_count": null,
      "metadata": {
        "id": "HHhX0j1N6XlI"
      },
      "outputs": [],
      "source": [
        "l_rate = 0.1\n",
        "num_hidden = 1\n",
        "bypass = True"
      ]
    },
    {
      "cell_type": "code",
      "execution_count": null,
      "metadata": {
        "id": "nr9wt2f96dc-"
      },
      "outputs": [],
      "source": [
        "model_run10(l_rate,num_hidden,bypass,num_epocs)"
      ]
    }
  ],
  "metadata": {
    "colab": {
      "provenance": [],
      "authorship_tag": "ABX9TyM29C95PAwCKyO9hb4uxoKj",
      "include_colab_link": true
    },
    "gpuClass": "standard",
    "kernelspec": {
      "display_name": "Python 3",
      "name": "python3"
    },
    "language_info": {
      "name": "python"
    }
  },
  "nbformat": 4,
  "nbformat_minor": 0
}