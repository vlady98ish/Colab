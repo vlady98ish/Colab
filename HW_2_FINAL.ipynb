{
  "cells": [
    {
      "cell_type": "markdown",
      "metadata": {
        "id": "view-in-github",
        "colab_type": "text"
      },
      "source": [
        "<a href=\"https://colab.research.google.com/github/vlady98ish/Colab/blob/main/HW_2_FINAL.ipynb\" target=\"_parent\"><img src=\"https://colab.research.google.com/assets/colab-badge.svg\" alt=\"Open In Colab\"/></a>"
      ]
    },
    {
      "cell_type": "markdown",
      "metadata": {
        "id": "x7rESbxtO-Ru"
      },
      "source": [
        "#Imports\n",
        "\n"
      ]
    },
    {
      "cell_type": "code",
      "execution_count": 1,
      "metadata": {
        "id": "BKn_EyU5OpaR"
      },
      "outputs": [],
      "source": [
        "import torch\n",
        "from torch import nn\n",
        "import numpy as np\n",
        "import matplotlib.pyplot as plt"
      ]
    },
    {
      "cell_type": "code",
      "execution_count": 2,
      "metadata": {
        "colab": {
          "base_uri": "https://localhost:8080/"
        },
        "id": "NeKSDuLVPLd7",
        "outputId": "ced13b5b-b178-4959-f58d-2a95b867206e"
      },
      "outputs": [
        {
          "output_type": "stream",
          "name": "stdout",
          "text": [
            "cpu\n"
          ]
        }
      ],
      "source": [
        "device = torch.device(\"cuda:0\" if torch.cuda.is_available() else \"cpu\")\n",
        "print(device)"
      ]
    },
    {
      "cell_type": "markdown",
      "metadata": {
        "id": "AOc16agingqe"
      },
      "source": [
        "#Init Array of data for future graph"
      ]
    },
    {
      "cell_type": "code",
      "execution_count": 3,
      "metadata": {
        "id": "9q_G7m8pnfn5"
      },
      "outputs": [],
      "source": [
        "mean_epocs = []\n",
        "std_epocs = []\n"
      ]
    },
    {
      "cell_type": "markdown",
      "metadata": {
        "id": "WWCuPS2qPVW3"
      },
      "source": [
        "#Init Linear Layer Class"
      ]
    },
    {
      "cell_type": "code",
      "execution_count": 4,
      "metadata": {
        "id": "hVzdAp47PZy6"
      },
      "outputs": [],
      "source": [
        "class Linear(torch.nn.Module):\n",
        "  def __init__(self, in_features: int, out_features: int, bias: bool = True, device=None, dtype=None) -> None:\n",
        "    factory_kwargs = {'device': device, 'dtype': dtype}\n",
        "    super(Linear, self).__init__()\n",
        "    self.in_features = in_features\n",
        "    self.out_features = out_features\n",
        "    self.weight = nn.Parameter(torch.empty((out_features, in_features), **factory_kwargs))\n",
        "    if bias:\n",
        "        self.bias = nn.Parameter(torch.empty(out_features, **factory_kwargs))\n",
        "    else:\n",
        "        self.register_parameter('bias', None)\n",
        "    self.reset_parameters()\n",
        "\n",
        "  def reset_parameters(self) -> None:\n",
        "    self.weight = nn.Parameter(torch.rand([self.out_features, self.in_features]))\n",
        "    if self.bias is not None:\n",
        "      self.bias = nn.Parameter(torch.rand([self.out_features]))\n",
        "\n",
        "  def forward(self, input: torch.Tensor) -> torch.Tensor:\n",
        "    return torch.matmul(input, torch.transpose(self.weight,0,1)) + self.bias\n",
        "\n",
        "  def extra_repr(self) -> str:\n",
        "    return 'in_features={}, out_features={}, bias={}'.format(\n",
        "        self.in_features, self.out_features, self.bias is not None\n",
        "      )"
      ]
    },
    {
      "cell_type": "markdown",
      "metadata": {
        "id": "B8fmUObiPovU"
      },
      "source": [
        "#Init BTU Class"
      ]
    },
    {
      "cell_type": "code",
      "execution_count": 5,
      "metadata": {
        "id": "xa7PwUZbPtHT"
      },
      "outputs": [],
      "source": [
        "class BTU(torch.nn.Module):\n",
        "  def __init__(self, T=0.2, inplace: bool = False):\n",
        "      super(BTU, self).__init__()\n",
        "      self.T = T\n",
        "\n",
        "  def forward(self, input: torch.Tensor) -> torch.Tensor:\n",
        "      return 1 / (1 + torch.exp(-input/self.T))"
      ]
    },
    {
      "cell_type": "markdown",
      "metadata": {
        "id": "IHDMslVzPxzT"
      },
      "source": [
        "#Init XOR Model"
      ]
    },
    {
      "cell_type": "code",
      "execution_count": 6,
      "metadata": {
        "colab": {
          "base_uri": "https://localhost:8080/"
        },
        "id": "Z9r02ZK6P0N4",
        "outputId": "2f2dfd1b-3be6-4fba-f900-c7bd47b34a3b"
      },
      "outputs": [
        {
          "output_type": "stream",
          "name": "stdout",
          "text": [
            "X_Train tensor: tensor([[0., 0.],\n",
            "        [0., 1.],\n",
            "        [1., 0.],\n",
            "        [1., 1.]], requires_grad=True)\n",
            "T_Train tensor: tensor([[0.],\n",
            "        [1.],\n",
            "        [1.],\n",
            "        [0.]])\n",
            "X_Validation tensor: tensor([[0.0000, 0.0000],\n",
            "        [0.0000, 1.0000],\n",
            "        [1.0000, 0.0000],\n",
            "        [1.0000, 1.0000],\n",
            "        [1.0000, 0.1000],\n",
            "        [1.0000, 0.9000],\n",
            "        [0.9000, 0.9000],\n",
            "        [0.1000, 0.9000]], requires_grad=True)\n",
            "T_Validation tensor: tensor([[0],\n",
            "        [1],\n",
            "        [1],\n",
            "        [0],\n",
            "        [1],\n",
            "        [0],\n",
            "        [0],\n",
            "        [1]])\n"
          ]
        }
      ],
      "source": [
        "dim = 2\n",
        "out_dim = 1\n",
        "\n",
        "\n",
        "x_train = torch.tensor([[0, 0], [0, 1], [1, 0], [1, 1]], requires_grad=True, dtype=torch.float32)\n",
        "print(\"X_Train tensor:\",x_train)\n",
        "t_train = torch.tensor([[0], [1], [1], [0]], dtype=torch.float32)\n",
        "print(\"T_Train tensor:\",t_train)\n",
        "\n",
        "x_validation = torch.tensor([[0, 0],[0, 1],[1, 0],[1, 1],[1,0.1],[1,0.9],[0.9,0.9],[0.1,0.9]], requires_grad=True, dtype=torch.float32)\n",
        "print(\"X_Validation tensor:\",x_validation)\n",
        "t_validation = torch.tensor([[0], [1], [1], [0],[1],[0],[0],[1]])\n",
        "print(\"T_Validation tensor:\",t_validation)\n",
        "\n",
        "\n",
        "class XOR_Net_Model(nn.Module):\n",
        "  def __init__(self,num_hidden, bypass=True):\n",
        "    super().__init__()\n",
        "    self.bypass = bypass\n",
        "    self.hidden = Linear(dim, num_hidden)\n",
        "    if self.bypass:\n",
        "      self.output = Linear(num_hidden + dim, out_dim)\n",
        "    else:\n",
        "      self.output = Linear(num_hidden, out_dim)\n",
        "    self.BTU = BTU(0.5)\n",
        "\n",
        "  def forward(self, input):\n",
        "    z1 = self.hidden(input)\n",
        "    y1 = self.BTU(z1)\n",
        "    if self.bypass:\n",
        "      y1_concat = torch.cat((input, y1), 1)\n",
        "      z2 = self.output(y1_concat)\n",
        "    else:\n",
        "      z2 = self.output(y1)\n",
        "    return self.BTU(z2)"
      ]
    },
    {
      "cell_type": "markdown",
      "metadata": {
        "id": "jsWZqRK2P-jF"
      },
      "source": [
        "#Init Loss Function"
      ]
    },
    {
      "cell_type": "code",
      "execution_count": 7,
      "metadata": {
        "id": "DTK2GoQtQA-o"
      },
      "outputs": [],
      "source": [
        "def Loss(out, t_train):\n",
        "  return -torch.sum(t_train * torch.log(out) + (1.0 - t_train) * torch.log(1.0 - out))  # Cross Entropy loss function"
      ]
    },
    {
      "cell_type": "markdown",
      "metadata": {
        "id": "FUbgHbQhQFGR"
      },
      "source": [
        "#Train Function"
      ]
    },
    {
      "cell_type": "code",
      "execution_count": 8,
      "metadata": {
        "id": "NV35tIcvQG-R"
      },
      "outputs": [],
      "source": [
        "def train(model, x_train, t_train, optimizer):\n",
        "  y_pred = model(x_train)\n",
        "  loss = Loss(y_pred, t_train)\n",
        "\n",
        "  # zero gradients berfore running the backward pass\n",
        "  optimizer.zero_grad()\n",
        "\n",
        "  # backward pass to compute the gradient of loss\n",
        "  # backprop + accumulate \n",
        "  loss.backward()\n",
        "\n",
        "  # update params\n",
        "  optimizer.step()\n",
        "  return loss"
      ]
    },
    {
      "cell_type": "markdown",
      "metadata": {
        "id": "nLR64MTbQK8e"
      },
      "source": [
        "#Test Function"
      ]
    },
    {
      "cell_type": "code",
      "execution_count": 9,
      "metadata": {
        "id": "X8kW5fVaQM_S"
      },
      "outputs": [],
      "source": [
        "# define test step operation:\n",
        "def test(model, x_test, t_test):\n",
        "  loss = Loss(model(x_test), t_test)\n",
        "  return loss"
      ]
    },
    {
      "cell_type": "markdown",
      "metadata": {
        "id": "XrEcMKx0pkxu"
      },
      "source": [
        "#Print results of experiment"
      ]
    },
    {
      "cell_type": "code",
      "execution_count": 10,
      "metadata": {
        "id": "1CKvhe_Lppqy"
      },
      "outputs": [],
      "source": [
        "def print_results(epocs_arr,validation_loss_arr,train_loss_arr, bad_training_count):\n",
        "  mean_of_epocs = torch.mean(torch.FloatTensor(epocs_arr))\n",
        "  std_of_epocs = torch.std(torch.FloatTensor(epocs_arr)) \n",
        "  mean_validation = torch.mean(torch.FloatTensor(validation_loss_arr))\n",
        "  std_validation = torch.std(torch.FloatTensor(validation_loss_arr)) \n",
        "  mean_loss = torch.mean(torch.FloatTensor(train_loss_arr))\n",
        "  std_loss = torch.std(torch.FloatTensor(train_loss_arr)) \n",
        "\n",
        "\n",
        "\n",
        "  mean_epocs.append(mean_of_epocs)\n",
        "  std_epocs.append(std_of_epocs)\n",
        "  print(\"-----------------------------------------------------\\n\")\n",
        "  print(f\"Mean of epocs = {mean_of_epocs} \\nStandard deviation of epocs = {std_of_epocs}\\n\")\n",
        "  print(f\"Mean of validation loss = {mean_validation} \\nStandard deviation of validation loss = {std_validation}\\n\")\n",
        "  print(f\"Mean of train  loss = {mean_loss} \\nStandard deviation of train loss = {std_loss}\\n\")\n",
        "  print(f\"Bad training count = {bad_training_count}\")\n"
      ]
    },
    {
      "cell_type": "markdown",
      "metadata": {
        "id": "9Ct_rsabLmVN"
      },
      "source": [
        "#MODEL RUN FUNCTION\n",
        "10 runs"
      ]
    },
    {
      "cell_type": "code",
      "execution_count": 11,
      "metadata": {
        "id": "SWnzr2jKLo1Z"
      },
      "outputs": [],
      "source": [
        "def model_run10(learning_rate,hidden,bypass,epocs):\n",
        "  good_training_count =0\n",
        "  bad_training_count = 0\n",
        "  epoc_count = []\n",
        "  validation_loss_data = []\n",
        "  training_loss_data = []\n",
        "  parameters_of_good_training =[]\n",
        "  while(good_training_count!=10):\n",
        "    model = XOR_Net_Model(hidden, bypass)\n",
        "    \n",
        "    optimizer = torch.optim.SGD(model.parameters(), lr=learning_rate)\n",
        "\n",
        "    counter_of_10 = 0\n",
        "    previous_loss = None\n",
        " \n",
        "  \n",
        "    for i in range(epocs):\n",
        "      if(i == 0):\n",
        "        train_loss = train(model, x_train, t_train, optimizer)\n",
        "        \n",
        "        validation_loss = test(model,x_validation,t_validation)\n",
        "        previous_loss = validation_loss\n",
        "      else:\n",
        "        train_loss = train(model, x_train, t_train, optimizer)\n",
        "        \n",
        "        validation_loss = test(model,x_validation,t_validation)\n",
        "        difference = previous_loss - validation_loss\n",
        "        \n",
        "      \n",
        "        if (difference <= 0.0001 and validation_loss<0.2):\n",
        "          counter_of_10+=1\n",
        "        else:\n",
        "          counter_of_10 = 0\n",
        "        if counter_of_10 == 10:\n",
        "          print(f\"--------------------------------------------------------------------------------------------------------------------\")\n",
        "          print(f\"Good train: number of epocs = {i}\" )\n",
        "          epoc_count.append(i)\n",
        "          validation_loss_data.append(validation_loss)\n",
        "          training_loss_data.append(train_loss)\n",
        "          good_training_count+=1\n",
        "\n",
        "          break\n",
        "        elif i == 40000:\n",
        "          print(f\"--------------------------------------------------------------------------------------------------------------------\")\n",
        "          print(f\"Bad train: number of epocs = {i}\")\n",
        "          bad_training_count+=1\n",
        "          break  \n",
        "        previous_loss = validation_loss\n",
        "        ###MY CODE#####\n",
        "\n",
        "        # print(\"\\n Epoc: %s, train loss: %s\" % (i, train_loss))\n",
        "        # print(\"\\n Epoc: %s, validation loss: %s\" % (i, validation_loss))\n",
        "        # print(model(x_train))\n",
        "  print_results(epoc_count,validation_loss_data,training_loss_data, bad_training_count)\n",
        "  print(\"--------------------------------------------------\\n\")\n",
        "  print(\"Hyper Parameters\")\n",
        "  print(f\"Learning Rate = {learning_rate}\\n Num of hidden neurons = {hidden} \\n Bypass = {bypass} \\n Max epocs ={epocs}\")"
      ]
    },
    {
      "cell_type": "markdown",
      "metadata": {
        "id": "ilGcWT5dQfoI"
      },
      "source": [
        "#Training"
      ]
    },
    {
      "cell_type": "markdown",
      "metadata": {
        "id": "sSYTTyr3v1ts"
      },
      "source": [
        "#<b>First Test</b><br>\n",
        "1-Test with Learning rate = 0.1<br>\n",
        "2- Count of hidden neuron = 2<br>\n",
        "3 - Bypass = True\n"
      ]
    },
    {
      "cell_type": "code",
      "execution_count": 12,
      "metadata": {
        "id": "ShJlj73kwGVH"
      },
      "outputs": [],
      "source": [
        "l_rate = 0.1\n",
        "num_hidden = 2\n",
        "\n",
        "bypass = True\n",
        "num_epocs = 400000"
      ]
    },
    {
      "cell_type": "code",
      "execution_count": 13,
      "metadata": {
        "colab": {
          "base_uri": "https://localhost:8080/"
        },
        "id": "t9QIH0XvQhu1",
        "outputId": "0e09a358-a721-42da-b31c-4ace963bc585"
      },
      "outputs": [
        {
          "output_type": "stream",
          "name": "stdout",
          "text": [
            "--------------------------------------------------------------------------------------------------------------------\n",
            "Good train: number of epocs = 1635\n",
            "--------------------------------------------------------------------------------------------------------------------\n",
            "Good train: number of epocs = 1253\n",
            "--------------------------------------------------------------------------------------------------------------------\n",
            "Good train: number of epocs = 1245\n",
            "--------------------------------------------------------------------------------------------------------------------\n",
            "Good train: number of epocs = 1232\n",
            "--------------------------------------------------------------------------------------------------------------------\n",
            "Good train: number of epocs = 1650\n",
            "--------------------------------------------------------------------------------------------------------------------\n",
            "Good train: number of epocs = 1217\n",
            "--------------------------------------------------------------------------------------------------------------------\n",
            "Good train: number of epocs = 1605\n",
            "--------------------------------------------------------------------------------------------------------------------\n",
            "Good train: number of epocs = 1707\n",
            "--------------------------------------------------------------------------------------------------------------------\n",
            "Good train: number of epocs = 1631\n",
            "--------------------------------------------------------------------------------------------------------------------\n",
            "Good train: number of epocs = 1413\n",
            "-----------------------------------------------------\n",
            "\n",
            "Mean of epocs = 1458.800048828125 \n",
            "Standard deviation of epocs = 205.56199645996094\n",
            "\n",
            "Mean of validation loss = 0.14913097023963928 \n",
            "Standard deviation of validation loss = 0.032415397465229034\n",
            "\n",
            "Mean of train  loss = 0.03538166731595993 \n",
            "Standard deviation of train loss = 0.004764195531606674\n",
            "\n",
            "Bad training count = 0\n",
            "--------------------------------------------------\n",
            "\n",
            "Hyper Parameters\n",
            "Learning Rate = 0.1\n",
            " Num of hidden neurons = 2 \n",
            " Bypass = True \n",
            " Max epocs =400000\n"
          ]
        }
      ],
      "source": [
        "model_run10(l_rate,num_hidden,bypass,num_epocs)"
      ]
    },
    {
      "cell_type": "markdown",
      "metadata": {
        "id": "_ZonqEvtz5o-"
      },
      "source": [
        "#<b>Second Test</b><br>\n",
        "1-Test with Learning rate = 0.1<br>\n",
        "2- Count of hidden neuron = 2<br>\n",
        "3 - Bypass = False"
      ]
    },
    {
      "cell_type": "code",
      "execution_count": 14,
      "metadata": {
        "id": "vKshG_Z80ozD"
      },
      "outputs": [],
      "source": [
        "l_rate = 0.1\n",
        "num_hidden = 2\n",
        "bypass = False\n"
      ]
    },
    {
      "cell_type": "code",
      "execution_count": 15,
      "metadata": {
        "colab": {
          "base_uri": "https://localhost:8080/"
        },
        "id": "oQMQgKUP0vC9",
        "outputId": "1bce7e96-c43d-4164-b9e2-e21e12ba3b8c"
      },
      "outputs": [
        {
          "output_type": "stream",
          "name": "stdout",
          "text": [
            "--------------------------------------------------------------------------------------------------------------------\n",
            "Good train: number of epocs = 1228\n",
            "--------------------------------------------------------------------------------------------------------------------\n",
            "Good train: number of epocs = 1079\n",
            "--------------------------------------------------------------------------------------------------------------------\n",
            "Good train: number of epocs = 2024\n",
            "--------------------------------------------------------------------------------------------------------------------\n",
            "Good train: number of epocs = 1377\n",
            "--------------------------------------------------------------------------------------------------------------------\n",
            "Bad train: number of epocs = 40000\n",
            "--------------------------------------------------------------------------------------------------------------------\n",
            "Bad train: number of epocs = 40000\n",
            "--------------------------------------------------------------------------------------------------------------------\n",
            "Bad train: number of epocs = 40000\n",
            "--------------------------------------------------------------------------------------------------------------------\n",
            "Good train: number of epocs = 1405\n",
            "--------------------------------------------------------------------------------------------------------------------\n",
            "Bad train: number of epocs = 40000\n",
            "--------------------------------------------------------------------------------------------------------------------\n",
            "Bad train: number of epocs = 40000\n",
            "--------------------------------------------------------------------------------------------------------------------\n",
            "Good train: number of epocs = 1519\n",
            "--------------------------------------------------------------------------------------------------------------------\n",
            "Good train: number of epocs = 1214\n",
            "--------------------------------------------------------------------------------------------------------------------\n",
            "Good train: number of epocs = 1258\n",
            "--------------------------------------------------------------------------------------------------------------------\n",
            "Bad train: number of epocs = 40000\n",
            "--------------------------------------------------------------------------------------------------------------------\n",
            "Good train: number of epocs = 1233\n",
            "--------------------------------------------------------------------------------------------------------------------\n",
            "Good train: number of epocs = 1167\n",
            "-----------------------------------------------------\n",
            "\n",
            "Mean of epocs = 1350.4000244140625 \n",
            "Standard deviation of epocs = 268.54595947265625\n",
            "\n",
            "Mean of validation loss = 0.0898578017950058 \n",
            "Standard deviation of validation loss = 0.01057640090584755\n",
            "\n",
            "Mean of train  loss = 0.03073655068874359 \n",
            "Standard deviation of train loss = 0.00507463188841939\n",
            "\n",
            "Bad training count = 6\n",
            "--------------------------------------------------\n",
            "\n",
            "Hyper Parameters\n",
            "Learning Rate = 0.1\n",
            " Num of hidden neurons = 2 \n",
            " Bypass = False \n",
            " Max epocs =400000\n"
          ]
        }
      ],
      "source": [
        "model_run10(l_rate,num_hidden,bypass,num_epocs)"
      ]
    },
    {
      "cell_type": "markdown",
      "metadata": {
        "id": "O6lQfmBg1KDh"
      },
      "source": [
        "#<b>Third Test</b><br>\n",
        "1-Test with Learning rate = 0.1<br>\n",
        "2- Count of hidden neuron = 4<br>\n",
        "3 - Bypass = True"
      ]
    },
    {
      "cell_type": "code",
      "execution_count": 16,
      "metadata": {
        "id": "kELe8auP1VJv"
      },
      "outputs": [],
      "source": [
        "l_rate = 0.1\n",
        "num_hidden = 4\n",
        "bypass = True\n"
      ]
    },
    {
      "cell_type": "code",
      "execution_count": 17,
      "metadata": {
        "colab": {
          "base_uri": "https://localhost:8080/"
        },
        "id": "ZeB6E6QK1aKt",
        "outputId": "b85894b6-8e60-4465-f1d6-f722dd784625"
      },
      "outputs": [
        {
          "output_type": "stream",
          "name": "stdout",
          "text": [
            "--------------------------------------------------------------------------------------------------------------------\n",
            "Good train: number of epocs = 1318\n",
            "--------------------------------------------------------------------------------------------------------------------\n",
            "Good train: number of epocs = 1295\n",
            "--------------------------------------------------------------------------------------------------------------------\n",
            "Good train: number of epocs = 1208\n",
            "--------------------------------------------------------------------------------------------------------------------\n",
            "Good train: number of epocs = 912\n",
            "--------------------------------------------------------------------------------------------------------------------\n",
            "Good train: number of epocs = 1626\n",
            "--------------------------------------------------------------------------------------------------------------------\n",
            "Good train: number of epocs = 1155\n",
            "--------------------------------------------------------------------------------------------------------------------\n",
            "Good train: number of epocs = 1547\n",
            "--------------------------------------------------------------------------------------------------------------------\n",
            "Good train: number of epocs = 1160\n",
            "--------------------------------------------------------------------------------------------------------------------\n",
            "Good train: number of epocs = 1168\n",
            "--------------------------------------------------------------------------------------------------------------------\n",
            "Good train: number of epocs = 1231\n",
            "-----------------------------------------------------\n",
            "\n",
            "Mean of epocs = 1262.0 \n",
            "Standard deviation of epocs = 204.12741088867188\n",
            "\n",
            "Mean of validation loss = 0.11500906944274902 \n",
            "Standard deviation of validation loss = 0.02091277204453945\n",
            "\n",
            "Mean of train  loss = 0.027904242277145386 \n",
            "Standard deviation of train loss = 0.003551487810909748\n",
            "\n",
            "Bad training count = 0\n",
            "--------------------------------------------------\n",
            "\n",
            "Hyper Parameters\n",
            "Learning Rate = 0.1\n",
            " Num of hidden neurons = 4 \n",
            " Bypass = True \n",
            " Max epocs =400000\n"
          ]
        }
      ],
      "source": [
        "model_run10(l_rate,num_hidden,bypass,num_epocs)"
      ]
    },
    {
      "cell_type": "markdown",
      "metadata": {
        "id": "9ms0KxYT2IX_"
      },
      "source": [
        "#<b>Fourth Test</b><br>\n",
        "1-Test with Learning rate = 0.1<br>\n",
        "2- Count of hidden neuron = 4<br>\n",
        "3 - Bypass = False"
      ]
    },
    {
      "cell_type": "code",
      "execution_count": 18,
      "metadata": {
        "id": "EdD2zdzz2OSM"
      },
      "outputs": [],
      "source": [
        "l_rate = 0.1\n",
        "num_hidden = 4\n",
        "bypass = False"
      ]
    },
    {
      "cell_type": "code",
      "execution_count": 19,
      "metadata": {
        "colab": {
          "base_uri": "https://localhost:8080/"
        },
        "id": "ThQwAjiV2RVw",
        "outputId": "a8290b8a-172a-45ec-e09a-74f690bccf4d"
      },
      "outputs": [
        {
          "output_type": "stream",
          "name": "stdout",
          "text": [
            "--------------------------------------------------------------------------------------------------------------------\n",
            "Good train: number of epocs = 1220\n",
            "--------------------------------------------------------------------------------------------------------------------\n",
            "Good train: number of epocs = 1206\n",
            "--------------------------------------------------------------------------------------------------------------------\n",
            "Good train: number of epocs = 1062\n",
            "--------------------------------------------------------------------------------------------------------------------\n",
            "Good train: number of epocs = 977\n",
            "--------------------------------------------------------------------------------------------------------------------\n",
            "Good train: number of epocs = 1044\n",
            "--------------------------------------------------------------------------------------------------------------------\n",
            "Good train: number of epocs = 1028\n",
            "--------------------------------------------------------------------------------------------------------------------\n",
            "Good train: number of epocs = 1235\n",
            "--------------------------------------------------------------------------------------------------------------------\n",
            "Good train: number of epocs = 1217\n",
            "--------------------------------------------------------------------------------------------------------------------\n",
            "Good train: number of epocs = 1040\n",
            "--------------------------------------------------------------------------------------------------------------------\n",
            "Bad train: number of epocs = 40000\n",
            "--------------------------------------------------------------------------------------------------------------------\n",
            "Good train: number of epocs = 1267\n",
            "-----------------------------------------------------\n",
            "\n",
            "Mean of epocs = 1129.5999755859375 \n",
            "Standard deviation of epocs = 108.0999526977539\n",
            "\n",
            "Mean of validation loss = 0.08478107303380966 \n",
            "Standard deviation of validation loss = 0.007188853807747364\n",
            "\n",
            "Mean of train  loss = 0.028245965018868446 \n",
            "Standard deviation of train loss = 0.0037398727145045996\n",
            "\n",
            "Bad training count = 1\n",
            "--------------------------------------------------\n",
            "\n",
            "Hyper Parameters\n",
            "Learning Rate = 0.1\n",
            " Num of hidden neurons = 4 \n",
            " Bypass = False \n",
            " Max epocs =400000\n"
          ]
        }
      ],
      "source": [
        "model_run10(l_rate,num_hidden,bypass,num_epocs)"
      ]
    },
    {
      "cell_type": "markdown",
      "metadata": {
        "id": "svONPCt03BKm"
      },
      "source": [
        "#<b>Fifth Test</b><br>\n",
        "1-Test with Learning rate = 0.01<br>\n",
        "2- Count of hidden neuron = 2<br>\n",
        "3 - Bypass = True"
      ]
    },
    {
      "cell_type": "code",
      "execution_count": 20,
      "metadata": {
        "id": "kKix3DYC3Izw"
      },
      "outputs": [],
      "source": [
        "l_rate = 0.01\n",
        "num_hidden = 2\n",
        "bypass = True\n"
      ]
    },
    {
      "cell_type": "code",
      "execution_count": 21,
      "metadata": {
        "colab": {
          "base_uri": "https://localhost:8080/"
        },
        "id": "vC654hiQ3Pjo",
        "outputId": "33f34216-4ee1-4aa7-c176-d7706b9a27a2"
      },
      "outputs": [
        {
          "output_type": "stream",
          "name": "stdout",
          "text": [
            "--------------------------------------------------------------------------------------------------------------------\n",
            "Good train: number of epocs = 13562\n",
            "--------------------------------------------------------------------------------------------------------------------\n",
            "Good train: number of epocs = 13312\n",
            "--------------------------------------------------------------------------------------------------------------------\n",
            "Good train: number of epocs = 10007\n",
            "--------------------------------------------------------------------------------------------------------------------\n",
            "Good train: number of epocs = 12437\n",
            "--------------------------------------------------------------------------------------------------------------------\n",
            "Good train: number of epocs = 9748\n",
            "--------------------------------------------------------------------------------------------------------------------\n",
            "Good train: number of epocs = 7516\n",
            "--------------------------------------------------------------------------------------------------------------------\n",
            "Good train: number of epocs = 12557\n",
            "--------------------------------------------------------------------------------------------------------------------\n",
            "Good train: number of epocs = 7511\n",
            "--------------------------------------------------------------------------------------------------------------------\n",
            "Good train: number of epocs = 12424\n",
            "--------------------------------------------------------------------------------------------------------------------\n",
            "Good train: number of epocs = 6690\n",
            "-----------------------------------------------------\n",
            "\n",
            "Mean of epocs = 10576.400390625 \n",
            "Standard deviation of epocs = 2626.210693359375\n",
            "\n",
            "Mean of validation loss = 0.19979162514209747 \n",
            "Standard deviation of validation loss = 6.076919089537114e-05\n",
            "\n",
            "Mean of train  loss = 0.050787877291440964 \n",
            "Standard deviation of train loss = 0.006774236913770437\n",
            "\n",
            "Bad training count = 0\n",
            "--------------------------------------------------\n",
            "\n",
            "Hyper Parameters\n",
            "Learning Rate = 0.01\n",
            " Num of hidden neurons = 2 \n",
            " Bypass = True \n",
            " Max epocs =400000\n"
          ]
        }
      ],
      "source": [
        "model_run10(l_rate,num_hidden,bypass,num_epocs)"
      ]
    },
    {
      "cell_type": "markdown",
      "metadata": {
        "id": "TMmvlA0-4hFU"
      },
      "source": [
        "#<b>Six Test</b><br>\n",
        "1-Test with Learning rate = 0.01<br>\n",
        "2- Count of hidden neuron = 2<br>\n",
        "3 - Bypass = False"
      ]
    },
    {
      "cell_type": "code",
      "execution_count": 22,
      "metadata": {
        "id": "eY9WK7-t4nxD"
      },
      "outputs": [],
      "source": [
        "l_rate = 0.01\n",
        "num_hidden = 2\n",
        "bypass = False"
      ]
    },
    {
      "cell_type": "code",
      "execution_count": 23,
      "metadata": {
        "colab": {
          "base_uri": "https://localhost:8080/"
        },
        "id": "fjkXtsUc4qtd",
        "outputId": "f41cc25d-7bcf-4a11-c4de-5263dbabacf6"
      },
      "outputs": [
        {
          "output_type": "stream",
          "name": "stdout",
          "text": [
            "--------------------------------------------------------------------------------------------------------------------\n",
            "Bad train: number of epocs = 40000\n",
            "--------------------------------------------------------------------------------------------------------------------\n",
            "Bad train: number of epocs = 40000\n",
            "--------------------------------------------------------------------------------------------------------------------\n",
            "Bad train: number of epocs = 40000\n",
            "--------------------------------------------------------------------------------------------------------------------\n",
            "Good train: number of epocs = 5907\n",
            "--------------------------------------------------------------------------------------------------------------------\n",
            "Bad train: number of epocs = 40000\n",
            "--------------------------------------------------------------------------------------------------------------------\n",
            "Bad train: number of epocs = 40000\n",
            "--------------------------------------------------------------------------------------------------------------------\n",
            "Good train: number of epocs = 6594\n",
            "--------------------------------------------------------------------------------------------------------------------\n",
            "Good train: number of epocs = 7078\n",
            "--------------------------------------------------------------------------------------------------------------------\n",
            "Good train: number of epocs = 6415\n",
            "--------------------------------------------------------------------------------------------------------------------\n",
            "Good train: number of epocs = 7058\n",
            "--------------------------------------------------------------------------------------------------------------------\n",
            "Good train: number of epocs = 5887\n",
            "--------------------------------------------------------------------------------------------------------------------\n",
            "Bad train: number of epocs = 40000\n",
            "--------------------------------------------------------------------------------------------------------------------\n",
            "Bad train: number of epocs = 40000\n",
            "--------------------------------------------------------------------------------------------------------------------\n",
            "Bad train: number of epocs = 40000\n",
            "--------------------------------------------------------------------------------------------------------------------\n",
            "Bad train: number of epocs = 40000\n",
            "--------------------------------------------------------------------------------------------------------------------\n",
            "Bad train: number of epocs = 40000\n",
            "--------------------------------------------------------------------------------------------------------------------\n",
            "Bad train: number of epocs = 40000\n",
            "--------------------------------------------------------------------------------------------------------------------\n",
            "Bad train: number of epocs = 40000\n",
            "--------------------------------------------------------------------------------------------------------------------\n",
            "Good train: number of epocs = 5945\n",
            "--------------------------------------------------------------------------------------------------------------------\n",
            "Bad train: number of epocs = 40000\n",
            "--------------------------------------------------------------------------------------------------------------------\n",
            "Good train: number of epocs = 6558\n",
            "--------------------------------------------------------------------------------------------------------------------\n",
            "Good train: number of epocs = 5881\n",
            "--------------------------------------------------------------------------------------------------------------------\n",
            "Good train: number of epocs = 6213\n",
            "-----------------------------------------------------\n",
            "\n",
            "Mean of epocs = 6353.60009765625 \n",
            "Standard deviation of epocs = 465.6556091308594\n",
            "\n",
            "Mean of validation loss = 0.19949425756931305 \n",
            "Standard deviation of validation loss = 1.494596290285699e-05\n",
            "\n",
            "Mean of train  loss = 0.06983314454555511 \n",
            "Standard deviation of train loss = 0.000698074814863503\n",
            "\n",
            "Bad training count = 13\n",
            "--------------------------------------------------\n",
            "\n",
            "Hyper Parameters\n",
            "Learning Rate = 0.01\n",
            " Num of hidden neurons = 2 \n",
            " Bypass = False \n",
            " Max epocs =400000\n"
          ]
        }
      ],
      "source": [
        "model_run10(l_rate,num_hidden,bypass,num_epocs)"
      ]
    },
    {
      "cell_type": "markdown",
      "metadata": {
        "id": "MgnZmkWg5ChL"
      },
      "source": [
        "#<b>Seven Test</b><br>\n",
        "1-Test with Learning rate = 0.01<br>\n",
        "2- Count of hidden neuron = 4<br>\n",
        "3 - Bypass = False"
      ]
    },
    {
      "cell_type": "code",
      "execution_count": 24,
      "metadata": {
        "id": "NyIupWe55HK9"
      },
      "outputs": [],
      "source": [
        "l_rate = 0.01\n",
        "num_hidden = 4\n",
        "bypass = False\n"
      ]
    },
    {
      "cell_type": "code",
      "execution_count": 25,
      "metadata": {
        "colab": {
          "base_uri": "https://localhost:8080/"
        },
        "id": "EebV412q5MBC",
        "outputId": "1d26ff1b-2445-4e95-ae77-1726590f2a6d"
      },
      "outputs": [
        {
          "output_type": "stream",
          "name": "stdout",
          "text": [
            "--------------------------------------------------------------------------------------------------------------------\n",
            "Good train: number of epocs = 5083\n",
            "--------------------------------------------------------------------------------------------------------------------\n",
            "Good train: number of epocs = 5756\n",
            "--------------------------------------------------------------------------------------------------------------------\n",
            "Good train: number of epocs = 5861\n",
            "--------------------------------------------------------------------------------------------------------------------\n",
            "Good train: number of epocs = 6653\n",
            "--------------------------------------------------------------------------------------------------------------------\n",
            "Good train: number of epocs = 6200\n",
            "--------------------------------------------------------------------------------------------------------------------\n",
            "Good train: number of epocs = 7251\n",
            "--------------------------------------------------------------------------------------------------------------------\n",
            "Good train: number of epocs = 6297\n",
            "--------------------------------------------------------------------------------------------------------------------\n",
            "Good train: number of epocs = 6208\n",
            "--------------------------------------------------------------------------------------------------------------------\n",
            "Good train: number of epocs = 6566\n",
            "--------------------------------------------------------------------------------------------------------------------\n",
            "Good train: number of epocs = 5614\n",
            "-----------------------------------------------------\n",
            "\n",
            "Mean of epocs = 6148.89990234375 \n",
            "Standard deviation of epocs = 608.3008422851562\n",
            "\n",
            "Mean of validation loss = 0.1995244026184082 \n",
            "Standard deviation of validation loss = 4.779733353643678e-05\n",
            "\n",
            "Mean of train  loss = 0.06926503032445908 \n",
            "Standard deviation of train loss = 0.001908585662022233\n",
            "\n",
            "Bad training count = 0\n",
            "--------------------------------------------------\n",
            "\n",
            "Hyper Parameters\n",
            "Learning Rate = 0.01\n",
            " Num of hidden neurons = 4 \n",
            " Bypass = False \n",
            " Max epocs =400000\n"
          ]
        }
      ],
      "source": [
        "model_run10(l_rate,num_hidden,bypass,num_epocs)"
      ]
    },
    {
      "cell_type": "markdown",
      "metadata": {
        "id": "I5dIhtBj50Ok"
      },
      "source": [
        "#<b>Eight Test</b><br>\n",
        "1-Test with Learning rate = 0.01<br>\n",
        "2- Count of hidden neuron = 4<br>\n",
        "3 - Bypass = True"
      ]
    },
    {
      "cell_type": "code",
      "execution_count": 26,
      "metadata": {
        "id": "mEHWB7Ip53UQ"
      },
      "outputs": [],
      "source": [
        "l_rate = 0.01\n",
        "hidden = 4\n",
        "bypass = True"
      ]
    },
    {
      "cell_type": "code",
      "execution_count": 27,
      "metadata": {
        "colab": {
          "base_uri": "https://localhost:8080/"
        },
        "id": "u6yEs8eP55hm",
        "outputId": "2136da70-f20d-4ad1-ff9d-1aa91c6506f4"
      },
      "outputs": [
        {
          "output_type": "stream",
          "name": "stdout",
          "text": [
            "--------------------------------------------------------------------------------------------------------------------\n",
            "Good train: number of epocs = 11068\n",
            "--------------------------------------------------------------------------------------------------------------------\n",
            "Good train: number of epocs = 10090\n",
            "--------------------------------------------------------------------------------------------------------------------\n",
            "Good train: number of epocs = 6746\n",
            "--------------------------------------------------------------------------------------------------------------------\n",
            "Good train: number of epocs = 6683\n",
            "--------------------------------------------------------------------------------------------------------------------\n",
            "Good train: number of epocs = 15404\n",
            "--------------------------------------------------------------------------------------------------------------------\n",
            "Good train: number of epocs = 6566\n",
            "--------------------------------------------------------------------------------------------------------------------\n",
            "Good train: number of epocs = 6752\n",
            "--------------------------------------------------------------------------------------------------------------------\n",
            "Good train: number of epocs = 6032\n",
            "--------------------------------------------------------------------------------------------------------------------\n",
            "Good train: number of epocs = 6559\n",
            "--------------------------------------------------------------------------------------------------------------------\n",
            "Good train: number of epocs = 8912\n",
            "-----------------------------------------------------\n",
            "\n",
            "Mean of epocs = 8481.2001953125 \n",
            "Standard deviation of epocs = 2981.1728515625\n",
            "\n",
            "Mean of validation loss = 0.19971485435962677 \n",
            "Standard deviation of validation loss = 8.175914263119921e-05\n",
            "\n",
            "Mean of train  loss = 0.052953194826841354 \n",
            "Standard deviation of train loss = 0.006429859437048435\n",
            "\n",
            "Bad training count = 0\n",
            "--------------------------------------------------\n",
            "\n",
            "Hyper Parameters\n",
            "Learning Rate = 0.01\n",
            " Num of hidden neurons = 4 \n",
            " Bypass = True \n",
            " Max epocs =400000\n"
          ]
        }
      ],
      "source": [
        "model_run10(l_rate,hidden,bypass,num_epocs)\n",
        "  "
      ]
    },
    {
      "cell_type": "markdown",
      "metadata": {
        "id": "r9aYhrio6RRS"
      },
      "source": [
        "#<b>Nine Test</b><br>\n",
        "1-Test with Learning rate = 0.1<br>\n",
        "2- Count of hidden neuron = 1<br>\n",
        "3 - Bypass = True"
      ]
    },
    {
      "cell_type": "code",
      "execution_count": 28,
      "metadata": {
        "id": "HHhX0j1N6XlI"
      },
      "outputs": [],
      "source": [
        "l_rate = 0.1\n",
        "num_hidden = 1\n",
        "bypass = True\n"
      ]
    },
    {
      "cell_type": "code",
      "execution_count": 29,
      "metadata": {
        "id": "nr9wt2f96dc-",
        "colab": {
          "base_uri": "https://localhost:8080/"
        },
        "outputId": "4e55aac0-1d62-4438-977f-2fa10e931501"
      },
      "outputs": [
        {
          "output_type": "stream",
          "name": "stdout",
          "text": [
            "--------------------------------------------------------------------------------------------------------------------\n",
            "Good train: number of epocs = 1731\n",
            "--------------------------------------------------------------------------------------------------------------------\n",
            "Good train: number of epocs = 1627\n",
            "--------------------------------------------------------------------------------------------------------------------\n",
            "Good train: number of epocs = 1712\n",
            "--------------------------------------------------------------------------------------------------------------------\n",
            "Good train: number of epocs = 1704\n",
            "--------------------------------------------------------------------------------------------------------------------\n",
            "Good train: number of epocs = 1812\n",
            "--------------------------------------------------------------------------------------------------------------------\n",
            "Good train: number of epocs = 1667\n",
            "--------------------------------------------------------------------------------------------------------------------\n",
            "Good train: number of epocs = 1655\n",
            "--------------------------------------------------------------------------------------------------------------------\n",
            "Good train: number of epocs = 1765\n",
            "--------------------------------------------------------------------------------------------------------------------\n",
            "Good train: number of epocs = 1698\n",
            "--------------------------------------------------------------------------------------------------------------------\n",
            "Good train: number of epocs = 1668\n",
            "-----------------------------------------------------\n",
            "\n",
            "Mean of epocs = 1703.9000244140625 \n",
            "Standard deviation of epocs = 54.983734130859375\n",
            "\n",
            "Mean of validation loss = 0.18709568679332733 \n",
            "Standard deviation of validation loss = 0.01061225961893797\n",
            "\n",
            "Mean of train  loss = 0.04455726593732834 \n",
            "Standard deviation of train loss = 0.00470847450196743\n",
            "\n",
            "Bad training count = 0\n",
            "--------------------------------------------------\n",
            "\n",
            "Hyper Parameters\n",
            "Learning Rate = 0.1\n",
            " Num of hidden neurons = 1 \n",
            " Bypass = True \n",
            " Max epocs =400000\n"
          ]
        }
      ],
      "source": [
        "model_run10(l_rate,num_hidden,bypass,num_epocs)"
      ]
    },
    {
      "cell_type": "markdown",
      "metadata": {
        "id": "MyC8pvdJrTrq"
      },
      "source": [
        "#Plot function"
      ]
    },
    {
      "cell_type": "code",
      "execution_count": 30,
      "metadata": {
        "id": "tUvYbtcwrVLg"
      },
      "outputs": [],
      "source": [
        "def plot_function(x,y,x_name,y_name):\n",
        "  plt.scatter(x, y)\n",
        "  plt.title(f\"{x_name} and {y_name}\")\n",
        "  plt.xlabel(x_name)\n",
        "  plt.ylabel(y_name)\n",
        "  plt.show\n"
      ]
    },
    {
      "cell_type": "markdown",
      "metadata": {
        "id": "L9_1uj2brIFC"
      },
      "source": [
        "#Plot graphs"
      ]
    },
    {
      "cell_type": "code",
      "execution_count": 31,
      "metadata": {
        "id": "wywUBmnEmy8W",
        "colab": {
          "base_uri": "https://localhost:8080/",
          "height": 295
        },
        "outputId": "18f406da-9315-41e0-c649-66b8134f74a5"
      },
      "outputs": [
        {
          "output_type": "display_data",
          "data": {
            "text/plain": [
              "<Figure size 432x288 with 1 Axes>"
            ],
            "image/png": "[encoded data removed]"
          },
          "metadata": {
            "needs_background": "light"
          }
        }
      ],
      "source": [
        "num_hidden=[2,2,4,4,2,2,4,4,1]\n",
        "#First graph \n",
        "plot_function(mean_epocs,num_hidden, \"Mean of Epocs\", \"Number of hidden neurons\")\n",
        "\n",
        "\n",
        "\n",
        "\n"
      ]
    },
    {
      "cell_type": "code",
      "source": [
        "#Second graph  \n",
        "bridge =[True,False,True,False,True,False,False,True,True] \n",
        "plot_function(mean_epocs,bridge, \"Mean of Epocs\", \"Bridge\")"
      ],
      "metadata": {
        "colab": {
          "base_uri": "https://localhost:8080/",
          "height": 295
        },
        "id": "ARsFDfq47lRV",
        "outputId": "92d348a8-d856-4ff0-def1-584fe8fa59b8"
      },
      "execution_count": 32,
      "outputs": [
        {
          "output_type": "display_data",
          "data": {
            "text/plain": [
              "<Figure size 432x288 with 1 Axes>"
            ],
            "image/png": "[encoded data removed]"
          },
          "metadata": {
            "needs_background": "light"
          }
        }
      ]
    },
    {
      "cell_type": "code",
      "source": [
        "# #Third graph\n",
        "learning_rate_arr = [0.1,0.01,0.1,0.01,0.1,0.01,0.1,0.01,0.1]\n",
        "print(std_epocs)\n",
        "plot_function(std_epocs,learning_rate_arr, \"Standard Deviation of Epocs\", \"Learning Rate\")"
      ],
      "metadata": {
        "colab": {
          "base_uri": "https://localhost:8080/",
          "height": 312
        },
        "id": "0bKhCRZn7nyd",
        "outputId": "0fc165e4-53ca-4755-b37b-1be282215a4c"
      },
      "execution_count": 33,
      "outputs": [
        {
          "output_type": "stream",
          "name": "stdout",
          "text": [
            "[tensor(205.5620), tensor(268.5460), tensor(204.1274), tensor(108.1000), tensor(2626.2107), tensor(465.6556), tensor(608.3008), tensor(2981.1729), tensor(54.9837)]\n"
          ]
        },
        {
          "output_type": "display_data",
          "data": {
            "text/plain": [
              "<Figure size 432x288 with 1 Axes>"
            ],
            "image/png": "[encoded data removed]"
          },
          "metadata": {
            "needs_background": "light"
          }
        }
      ]
    }
  ],
  "metadata": {
    "colab": {
      "provenance": [],
      "collapsed_sections": [
        "ilGcWT5dQfoI",
        "O6lQfmBg1KDh",
        "9ms0KxYT2IX_"
      ],
      "authorship_tag": "ABX9TyO+O1Y2TV7/HLGgBhIqOj0A",
      "include_colab_link": true
    },
    "gpuClass": "standard",
    "kernelspec": {
      "display_name": "Python 3",
      "name": "python3"
    },
    "language_info": {
      "name": "python"
    }
  },
  "nbformat": 4,
  "nbformat_minor": 0
}